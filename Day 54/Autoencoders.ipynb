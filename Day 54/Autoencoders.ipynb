{
  "nbformat": 4,
  "nbformat_minor": 0,
  "metadata": {
    "colab": {
      "name": "Autoencoders.ipynb",
      "provenance": []
    },
    "kernelspec": {
      "name": "python3",
      "display_name": "Python 3"
    },
    "accelerator": "GPU",
    "widgets": {
      "application/vnd.jupyter.widget-state+json": {
        "99b298b82fed4427b2dcc971098f9055": {
          "model_module": "@jupyter-widgets/controls",
          "model_name": "HBoxModel",
          "state": {
            "_view_name": "HBoxView",
            "_dom_classes": [],
            "_model_name": "HBoxModel",
            "_view_module": "@jupyter-widgets/controls",
            "_model_module_version": "1.5.0",
            "_view_count": null,
            "_view_module_version": "1.5.0",
            "box_style": "",
            "layout": "IPY_MODEL_ffb258707eb0480bb9315064f067118e",
            "_model_module": "@jupyter-widgets/controls",
            "children": [
              "IPY_MODEL_70c1cc9fab28405c9a21ba99e5b21370",
              "IPY_MODEL_4d92d3ba266241ed8a537994910caacc"
            ]
          }
        },
        "ffb258707eb0480bb9315064f067118e": {
          "model_module": "@jupyter-widgets/base",
          "model_name": "LayoutModel",
          "state": {
            "_view_name": "LayoutView",
            "grid_template_rows": null,
            "right": null,
            "justify_content": null,
            "_view_module": "@jupyter-widgets/base",
            "overflow": null,
            "_model_module_version": "1.2.0",
            "_view_count": null,
            "flex_flow": null,
            "width": null,
            "min_width": null,
            "border": null,
            "align_items": null,
            "bottom": null,
            "_model_module": "@jupyter-widgets/base",
            "top": null,
            "grid_column": null,
            "overflow_y": null,
            "overflow_x": null,
            "grid_auto_flow": null,
            "grid_area": null,
            "grid_template_columns": null,
            "flex": null,
            "_model_name": "LayoutModel",
            "justify_items": null,
            "grid_row": null,
            "max_height": null,
            "align_content": null,
            "visibility": null,
            "align_self": null,
            "height": null,
            "min_height": null,
            "padding": null,
            "grid_auto_rows": null,
            "grid_gap": null,
            "max_width": null,
            "order": null,
            "_view_module_version": "1.2.0",
            "grid_template_areas": null,
            "object_position": null,
            "object_fit": null,
            "grid_auto_columns": null,
            "margin": null,
            "display": null,
            "left": null
          }
        },
        "70c1cc9fab28405c9a21ba99e5b21370": {
          "model_module": "@jupyter-widgets/controls",
          "model_name": "FloatProgressModel",
          "state": {
            "_view_name": "ProgressView",
            "style": "IPY_MODEL_df508cf146d24db08ebf605fa1bf7eed",
            "_dom_classes": [],
            "description": "",
            "_model_name": "FloatProgressModel",
            "bar_style": "info",
            "max": 1,
            "_view_module": "@jupyter-widgets/controls",
            "_model_module_version": "1.5.0",
            "value": 1,
            "_view_count": null,
            "_view_module_version": "1.5.0",
            "orientation": "horizontal",
            "min": 0,
            "description_tooltip": null,
            "_model_module": "@jupyter-widgets/controls",
            "layout": "IPY_MODEL_b383baf0c9124d3aa42c2d8913c976d4"
          }
        },
        "4d92d3ba266241ed8a537994910caacc": {
          "model_module": "@jupyter-widgets/controls",
          "model_name": "HTMLModel",
          "state": {
            "_view_name": "HTMLView",
            "style": "IPY_MODEL_d2178f3435514aecb84ef00561176bd6",
            "_dom_classes": [],
            "description": "",
            "_model_name": "HTMLModel",
            "placeholder": "​",
            "_view_module": "@jupyter-widgets/controls",
            "_model_module_version": "1.5.0",
            "value": " 9920512/? [00:20&lt;00:00, 1224359.09it/s]",
            "_view_count": null,
            "_view_module_version": "1.5.0",
            "description_tooltip": null,
            "_model_module": "@jupyter-widgets/controls",
            "layout": "IPY_MODEL_e6c76071d33c4901bb9f518eea5ce48a"
          }
        },
        "df508cf146d24db08ebf605fa1bf7eed": {
          "model_module": "@jupyter-widgets/controls",
          "model_name": "ProgressStyleModel",
          "state": {
            "_view_name": "StyleView",
            "_model_name": "ProgressStyleModel",
            "description_width": "initial",
            "_view_module": "@jupyter-widgets/base",
            "_model_module_version": "1.5.0",
            "_view_count": null,
            "_view_module_version": "1.2.0",
            "bar_color": null,
            "_model_module": "@jupyter-widgets/controls"
          }
        },
        "b383baf0c9124d3aa42c2d8913c976d4": {
          "model_module": "@jupyter-widgets/base",
          "model_name": "LayoutModel",
          "state": {
            "_view_name": "LayoutView",
            "grid_template_rows": null,
            "right": null,
            "justify_content": null,
            "_view_module": "@jupyter-widgets/base",
            "overflow": null,
            "_model_module_version": "1.2.0",
            "_view_count": null,
            "flex_flow": null,
            "width": null,
            "min_width": null,
            "border": null,
            "align_items": null,
            "bottom": null,
            "_model_module": "@jupyter-widgets/base",
            "top": null,
            "grid_column": null,
            "overflow_y": null,
            "overflow_x": null,
            "grid_auto_flow": null,
            "grid_area": null,
            "grid_template_columns": null,
            "flex": null,
            "_model_name": "LayoutModel",
            "justify_items": null,
            "grid_row": null,
            "max_height": null,
            "align_content": null,
            "visibility": null,
            "align_self": null,
            "height": null,
            "min_height": null,
            "padding": null,
            "grid_auto_rows": null,
            "grid_gap": null,
            "max_width": null,
            "order": null,
            "_view_module_version": "1.2.0",
            "grid_template_areas": null,
            "object_position": null,
            "object_fit": null,
            "grid_auto_columns": null,
            "margin": null,
            "display": null,
            "left": null
          }
        },
        "d2178f3435514aecb84ef00561176bd6": {
          "model_module": "@jupyter-widgets/controls",
          "model_name": "DescriptionStyleModel",
          "state": {
            "_view_name": "StyleView",
            "_model_name": "DescriptionStyleModel",
            "description_width": "",
            "_view_module": "@jupyter-widgets/base",
            "_model_module_version": "1.5.0",
            "_view_count": null,
            "_view_module_version": "1.2.0",
            "_model_module": "@jupyter-widgets/controls"
          }
        },
        "e6c76071d33c4901bb9f518eea5ce48a": {
          "model_module": "@jupyter-widgets/base",
          "model_name": "LayoutModel",
          "state": {
            "_view_name": "LayoutView",
            "grid_template_rows": null,
            "right": null,
            "justify_content": null,
            "_view_module": "@jupyter-widgets/base",
            "overflow": null,
            "_model_module_version": "1.2.0",
            "_view_count": null,
            "flex_flow": null,
            "width": null,
            "min_width": null,
            "border": null,
            "align_items": null,
            "bottom": null,
            "_model_module": "@jupyter-widgets/base",
            "top": null,
            "grid_column": null,
            "overflow_y": null,
            "overflow_x": null,
            "grid_auto_flow": null,
            "grid_area": null,
            "grid_template_columns": null,
            "flex": null,
            "_model_name": "LayoutModel",
            "justify_items": null,
            "grid_row": null,
            "max_height": null,
            "align_content": null,
            "visibility": null,
            "align_self": null,
            "height": null,
            "min_height": null,
            "padding": null,
            "grid_auto_rows": null,
            "grid_gap": null,
            "max_width": null,
            "order": null,
            "_view_module_version": "1.2.0",
            "grid_template_areas": null,
            "object_position": null,
            "object_fit": null,
            "grid_auto_columns": null,
            "margin": null,
            "display": null,
            "left": null
          }
        },
        "ac76aabc50ea41ff8ac87a3c374d96d7": {
          "model_module": "@jupyter-widgets/controls",
          "model_name": "HBoxModel",
          "state": {
            "_view_name": "HBoxView",
            "_dom_classes": [],
            "_model_name": "HBoxModel",
            "_view_module": "@jupyter-widgets/controls",
            "_model_module_version": "1.5.0",
            "_view_count": null,
            "_view_module_version": "1.5.0",
            "box_style": "",
            "layout": "IPY_MODEL_40a36c48c18548ac985257e285cbe962",
            "_model_module": "@jupyter-widgets/controls",
            "children": [
              "IPY_MODEL_b41873cbce5448128999b881516ea9dd",
              "IPY_MODEL_22081fc07acd4488a0cf5ffee641e8cc"
            ]
          }
        },
        "40a36c48c18548ac985257e285cbe962": {
          "model_module": "@jupyter-widgets/base",
          "model_name": "LayoutModel",
          "state": {
            "_view_name": "LayoutView",
            "grid_template_rows": null,
            "right": null,
            "justify_content": null,
            "_view_module": "@jupyter-widgets/base",
            "overflow": null,
            "_model_module_version": "1.2.0",
            "_view_count": null,
            "flex_flow": null,
            "width": null,
            "min_width": null,
            "border": null,
            "align_items": null,
            "bottom": null,
            "_model_module": "@jupyter-widgets/base",
            "top": null,
            "grid_column": null,
            "overflow_y": null,
            "overflow_x": null,
            "grid_auto_flow": null,
            "grid_area": null,
            "grid_template_columns": null,
            "flex": null,
            "_model_name": "LayoutModel",
            "justify_items": null,
            "grid_row": null,
            "max_height": null,
            "align_content": null,
            "visibility": null,
            "align_self": null,
            "height": null,
            "min_height": null,
            "padding": null,
            "grid_auto_rows": null,
            "grid_gap": null,
            "max_width": null,
            "order": null,
            "_view_module_version": "1.2.0",
            "grid_template_areas": null,
            "object_position": null,
            "object_fit": null,
            "grid_auto_columns": null,
            "margin": null,
            "display": null,
            "left": null
          }
        },
        "b41873cbce5448128999b881516ea9dd": {
          "model_module": "@jupyter-widgets/controls",
          "model_name": "FloatProgressModel",
          "state": {
            "_view_name": "ProgressView",
            "style": "IPY_MODEL_55059d9ac5e74944bd9b54370e87b663",
            "_dom_classes": [],
            "description": "",
            "_model_name": "FloatProgressModel",
            "bar_style": "success",
            "max": 1,
            "_view_module": "@jupyter-widgets/controls",
            "_model_module_version": "1.5.0",
            "value": 1,
            "_view_count": null,
            "_view_module_version": "1.5.0",
            "orientation": "horizontal",
            "min": 0,
            "description_tooltip": null,
            "_model_module": "@jupyter-widgets/controls",
            "layout": "IPY_MODEL_7729d9a075ba4a19b8f5f98805c43abb"
          }
        },
        "22081fc07acd4488a0cf5ffee641e8cc": {
          "model_module": "@jupyter-widgets/controls",
          "model_name": "HTMLModel",
          "state": {
            "_view_name": "HTMLView",
            "style": "IPY_MODEL_08e12ba88c184c0eb76843117159a886",
            "_dom_classes": [],
            "description": "",
            "_model_name": "HTMLModel",
            "placeholder": "​",
            "_view_module": "@jupyter-widgets/controls",
            "_model_module_version": "1.5.0",
            "value": " 32768/? [00:04&lt;00:00, 6581.77it/s]",
            "_view_count": null,
            "_view_module_version": "1.5.0",
            "description_tooltip": null,
            "_model_module": "@jupyter-widgets/controls",
            "layout": "IPY_MODEL_3e14540fcfdd4e4bb6721059b0c4228b"
          }
        },
        "55059d9ac5e74944bd9b54370e87b663": {
          "model_module": "@jupyter-widgets/controls",
          "model_name": "ProgressStyleModel",
          "state": {
            "_view_name": "StyleView",
            "_model_name": "ProgressStyleModel",
            "description_width": "initial",
            "_view_module": "@jupyter-widgets/base",
            "_model_module_version": "1.5.0",
            "_view_count": null,
            "_view_module_version": "1.2.0",
            "bar_color": null,
            "_model_module": "@jupyter-widgets/controls"
          }
        },
        "7729d9a075ba4a19b8f5f98805c43abb": {
          "model_module": "@jupyter-widgets/base",
          "model_name": "LayoutModel",
          "state": {
            "_view_name": "LayoutView",
            "grid_template_rows": null,
            "right": null,
            "justify_content": null,
            "_view_module": "@jupyter-widgets/base",
            "overflow": null,
            "_model_module_version": "1.2.0",
            "_view_count": null,
            "flex_flow": null,
            "width": null,
            "min_width": null,
            "border": null,
            "align_items": null,
            "bottom": null,
            "_model_module": "@jupyter-widgets/base",
            "top": null,
            "grid_column": null,
            "overflow_y": null,
            "overflow_x": null,
            "grid_auto_flow": null,
            "grid_area": null,
            "grid_template_columns": null,
            "flex": null,
            "_model_name": "LayoutModel",
            "justify_items": null,
            "grid_row": null,
            "max_height": null,
            "align_content": null,
            "visibility": null,
            "align_self": null,
            "height": null,
            "min_height": null,
            "padding": null,
            "grid_auto_rows": null,
            "grid_gap": null,
            "max_width": null,
            "order": null,
            "_view_module_version": "1.2.0",
            "grid_template_areas": null,
            "object_position": null,
            "object_fit": null,
            "grid_auto_columns": null,
            "margin": null,
            "display": null,
            "left": null
          }
        },
        "08e12ba88c184c0eb76843117159a886": {
          "model_module": "@jupyter-widgets/controls",
          "model_name": "DescriptionStyleModel",
          "state": {
            "_view_name": "StyleView",
            "_model_name": "DescriptionStyleModel",
            "description_width": "",
            "_view_module": "@jupyter-widgets/base",
            "_model_module_version": "1.5.0",
            "_view_count": null,
            "_view_module_version": "1.2.0",
            "_model_module": "@jupyter-widgets/controls"
          }
        },
        "3e14540fcfdd4e4bb6721059b0c4228b": {
          "model_module": "@jupyter-widgets/base",
          "model_name": "LayoutModel",
          "state": {
            "_view_name": "LayoutView",
            "grid_template_rows": null,
            "right": null,
            "justify_content": null,
            "_view_module": "@jupyter-widgets/base",
            "overflow": null,
            "_model_module_version": "1.2.0",
            "_view_count": null,
            "flex_flow": null,
            "width": null,
            "min_width": null,
            "border": null,
            "align_items": null,
            "bottom": null,
            "_model_module": "@jupyter-widgets/base",
            "top": null,
            "grid_column": null,
            "overflow_y": null,
            "overflow_x": null,
            "grid_auto_flow": null,
            "grid_area": null,
            "grid_template_columns": null,
            "flex": null,
            "_model_name": "LayoutModel",
            "justify_items": null,
            "grid_row": null,
            "max_height": null,
            "align_content": null,
            "visibility": null,
            "align_self": null,
            "height": null,
            "min_height": null,
            "padding": null,
            "grid_auto_rows": null,
            "grid_gap": null,
            "max_width": null,
            "order": null,
            "_view_module_version": "1.2.0",
            "grid_template_areas": null,
            "object_position": null,
            "object_fit": null,
            "grid_auto_columns": null,
            "margin": null,
            "display": null,
            "left": null
          }
        },
        "8fa436c0ff814083a41e9ce222c20774": {
          "model_module": "@jupyter-widgets/controls",
          "model_name": "HBoxModel",
          "state": {
            "_view_name": "HBoxView",
            "_dom_classes": [],
            "_model_name": "HBoxModel",
            "_view_module": "@jupyter-widgets/controls",
            "_model_module_version": "1.5.0",
            "_view_count": null,
            "_view_module_version": "1.5.0",
            "box_style": "",
            "layout": "IPY_MODEL_04da48a721ee430c8ce6144d04a65899",
            "_model_module": "@jupyter-widgets/controls",
            "children": [
              "IPY_MODEL_09fb132cfb404b98b4b3f8f020d46067",
              "IPY_MODEL_2cc33da4eddd465583d1e202f5044514"
            ]
          }
        },
        "04da48a721ee430c8ce6144d04a65899": {
          "model_module": "@jupyter-widgets/base",
          "model_name": "LayoutModel",
          "state": {
            "_view_name": "LayoutView",
            "grid_template_rows": null,
            "right": null,
            "justify_content": null,
            "_view_module": "@jupyter-widgets/base",
            "overflow": null,
            "_model_module_version": "1.2.0",
            "_view_count": null,
            "flex_flow": null,
            "width": null,
            "min_width": null,
            "border": null,
            "align_items": null,
            "bottom": null,
            "_model_module": "@jupyter-widgets/base",
            "top": null,
            "grid_column": null,
            "overflow_y": null,
            "overflow_x": null,
            "grid_auto_flow": null,
            "grid_area": null,
            "grid_template_columns": null,
            "flex": null,
            "_model_name": "LayoutModel",
            "justify_items": null,
            "grid_row": null,
            "max_height": null,
            "align_content": null,
            "visibility": null,
            "align_self": null,
            "height": null,
            "min_height": null,
            "padding": null,
            "grid_auto_rows": null,
            "grid_gap": null,
            "max_width": null,
            "order": null,
            "_view_module_version": "1.2.0",
            "grid_template_areas": null,
            "object_position": null,
            "object_fit": null,
            "grid_auto_columns": null,
            "margin": null,
            "display": null,
            "left": null
          }
        },
        "09fb132cfb404b98b4b3f8f020d46067": {
          "model_module": "@jupyter-widgets/controls",
          "model_name": "FloatProgressModel",
          "state": {
            "_view_name": "ProgressView",
            "style": "IPY_MODEL_e5153aa4609d493fa1f6a72bda743260",
            "_dom_classes": [],
            "description": "",
            "_model_name": "FloatProgressModel",
            "bar_style": "success",
            "max": 1,
            "_view_module": "@jupyter-widgets/controls",
            "_model_module_version": "1.5.0",
            "value": 1,
            "_view_count": null,
            "_view_module_version": "1.5.0",
            "orientation": "horizontal",
            "min": 0,
            "description_tooltip": null,
            "_model_module": "@jupyter-widgets/controls",
            "layout": "IPY_MODEL_319dcd92edc44fb5941f5cd7cbd948fa"
          }
        },
        "2cc33da4eddd465583d1e202f5044514": {
          "model_module": "@jupyter-widgets/controls",
          "model_name": "HTMLModel",
          "state": {
            "_view_name": "HTMLView",
            "style": "IPY_MODEL_4998787db2454dfaaee7967b578d4e5f",
            "_dom_classes": [],
            "description": "",
            "_model_name": "HTMLModel",
            "placeholder": "​",
            "_view_module": "@jupyter-widgets/controls",
            "_model_module_version": "1.5.0",
            "value": " 1654784/? [00:04&lt;00:00, 411976.46it/s]",
            "_view_count": null,
            "_view_module_version": "1.5.0",
            "description_tooltip": null,
            "_model_module": "@jupyter-widgets/controls",
            "layout": "IPY_MODEL_5705a1016966448984cc82bab022e2fa"
          }
        },
        "e5153aa4609d493fa1f6a72bda743260": {
          "model_module": "@jupyter-widgets/controls",
          "model_name": "ProgressStyleModel",
          "state": {
            "_view_name": "StyleView",
            "_model_name": "ProgressStyleModel",
            "description_width": "initial",
            "_view_module": "@jupyter-widgets/base",
            "_model_module_version": "1.5.0",
            "_view_count": null,
            "_view_module_version": "1.2.0",
            "bar_color": null,
            "_model_module": "@jupyter-widgets/controls"
          }
        },
        "319dcd92edc44fb5941f5cd7cbd948fa": {
          "model_module": "@jupyter-widgets/base",
          "model_name": "LayoutModel",
          "state": {
            "_view_name": "LayoutView",
            "grid_template_rows": null,
            "right": null,
            "justify_content": null,
            "_view_module": "@jupyter-widgets/base",
            "overflow": null,
            "_model_module_version": "1.2.0",
            "_view_count": null,
            "flex_flow": null,
            "width": null,
            "min_width": null,
            "border": null,
            "align_items": null,
            "bottom": null,
            "_model_module": "@jupyter-widgets/base",
            "top": null,
            "grid_column": null,
            "overflow_y": null,
            "overflow_x": null,
            "grid_auto_flow": null,
            "grid_area": null,
            "grid_template_columns": null,
            "flex": null,
            "_model_name": "LayoutModel",
            "justify_items": null,
            "grid_row": null,
            "max_height": null,
            "align_content": null,
            "visibility": null,
            "align_self": null,
            "height": null,
            "min_height": null,
            "padding": null,
            "grid_auto_rows": null,
            "grid_gap": null,
            "max_width": null,
            "order": null,
            "_view_module_version": "1.2.0",
            "grid_template_areas": null,
            "object_position": null,
            "object_fit": null,
            "grid_auto_columns": null,
            "margin": null,
            "display": null,
            "left": null
          }
        },
        "4998787db2454dfaaee7967b578d4e5f": {
          "model_module": "@jupyter-widgets/controls",
          "model_name": "DescriptionStyleModel",
          "state": {
            "_view_name": "StyleView",
            "_model_name": "DescriptionStyleModel",
            "description_width": "",
            "_view_module": "@jupyter-widgets/base",
            "_model_module_version": "1.5.0",
            "_view_count": null,
            "_view_module_version": "1.2.0",
            "_model_module": "@jupyter-widgets/controls"
          }
        },
        "5705a1016966448984cc82bab022e2fa": {
          "model_module": "@jupyter-widgets/base",
          "model_name": "LayoutModel",
          "state": {
            "_view_name": "LayoutView",
            "grid_template_rows": null,
            "right": null,
            "justify_content": null,
            "_view_module": "@jupyter-widgets/base",
            "overflow": null,
            "_model_module_version": "1.2.0",
            "_view_count": null,
            "flex_flow": null,
            "width": null,
            "min_width": null,
            "border": null,
            "align_items": null,
            "bottom": null,
            "_model_module": "@jupyter-widgets/base",
            "top": null,
            "grid_column": null,
            "overflow_y": null,
            "overflow_x": null,
            "grid_auto_flow": null,
            "grid_area": null,
            "grid_template_columns": null,
            "flex": null,
            "_model_name": "LayoutModel",
            "justify_items": null,
            "grid_row": null,
            "max_height": null,
            "align_content": null,
            "visibility": null,
            "align_self": null,
            "height": null,
            "min_height": null,
            "padding": null,
            "grid_auto_rows": null,
            "grid_gap": null,
            "max_width": null,
            "order": null,
            "_view_module_version": "1.2.0",
            "grid_template_areas": null,
            "object_position": null,
            "object_fit": null,
            "grid_auto_columns": null,
            "margin": null,
            "display": null,
            "left": null
          }
        },
        "60f81ed05c8141eab455670110f3adaa": {
          "model_module": "@jupyter-widgets/controls",
          "model_name": "HBoxModel",
          "state": {
            "_view_name": "HBoxView",
            "_dom_classes": [],
            "_model_name": "HBoxModel",
            "_view_module": "@jupyter-widgets/controls",
            "_model_module_version": "1.5.0",
            "_view_count": null,
            "_view_module_version": "1.5.0",
            "box_style": "",
            "layout": "IPY_MODEL_9e603c35a8a94286a5ff7579d41592cf",
            "_model_module": "@jupyter-widgets/controls",
            "children": [
              "IPY_MODEL_ad40c8665add41a7a19876165fae6d7b",
              "IPY_MODEL_0b74b6438e3c46a084e55b4865b5561c"
            ]
          }
        },
        "9e603c35a8a94286a5ff7579d41592cf": {
          "model_module": "@jupyter-widgets/base",
          "model_name": "LayoutModel",
          "state": {
            "_view_name": "LayoutView",
            "grid_template_rows": null,
            "right": null,
            "justify_content": null,
            "_view_module": "@jupyter-widgets/base",
            "overflow": null,
            "_model_module_version": "1.2.0",
            "_view_count": null,
            "flex_flow": null,
            "width": null,
            "min_width": null,
            "border": null,
            "align_items": null,
            "bottom": null,
            "_model_module": "@jupyter-widgets/base",
            "top": null,
            "grid_column": null,
            "overflow_y": null,
            "overflow_x": null,
            "grid_auto_flow": null,
            "grid_area": null,
            "grid_template_columns": null,
            "flex": null,
            "_model_name": "LayoutModel",
            "justify_items": null,
            "grid_row": null,
            "max_height": null,
            "align_content": null,
            "visibility": null,
            "align_self": null,
            "height": null,
            "min_height": null,
            "padding": null,
            "grid_auto_rows": null,
            "grid_gap": null,
            "max_width": null,
            "order": null,
            "_view_module_version": "1.2.0",
            "grid_template_areas": null,
            "object_position": null,
            "object_fit": null,
            "grid_auto_columns": null,
            "margin": null,
            "display": null,
            "left": null
          }
        },
        "ad40c8665add41a7a19876165fae6d7b": {
          "model_module": "@jupyter-widgets/controls",
          "model_name": "FloatProgressModel",
          "state": {
            "_view_name": "ProgressView",
            "style": "IPY_MODEL_1ddb932ed5c44cf8853cce49836df944",
            "_dom_classes": [],
            "description": "",
            "_model_name": "FloatProgressModel",
            "bar_style": "success",
            "max": 1,
            "_view_module": "@jupyter-widgets/controls",
            "_model_module_version": "1.5.0",
            "value": 1,
            "_view_count": null,
            "_view_module_version": "1.5.0",
            "orientation": "horizontal",
            "min": 0,
            "description_tooltip": null,
            "_model_module": "@jupyter-widgets/controls",
            "layout": "IPY_MODEL_114f798c1e034f8aa515eb309d8d6379"
          }
        },
        "0b74b6438e3c46a084e55b4865b5561c": {
          "model_module": "@jupyter-widgets/controls",
          "model_name": "HTMLModel",
          "state": {
            "_view_name": "HTMLView",
            "style": "IPY_MODEL_2a8b9bac7c6c4d10a9a7425a35747dda",
            "_dom_classes": [],
            "description": "",
            "_model_name": "HTMLModel",
            "placeholder": "​",
            "_view_module": "@jupyter-widgets/controls",
            "_model_module_version": "1.5.0",
            "value": " 8192/? [00:00&lt;00:00, 11529.73it/s]",
            "_view_count": null,
            "_view_module_version": "1.5.0",
            "description_tooltip": null,
            "_model_module": "@jupyter-widgets/controls",
            "layout": "IPY_MODEL_66f6f9fc6ef94a7982de3342d8572ccf"
          }
        },
        "1ddb932ed5c44cf8853cce49836df944": {
          "model_module": "@jupyter-widgets/controls",
          "model_name": "ProgressStyleModel",
          "state": {
            "_view_name": "StyleView",
            "_model_name": "ProgressStyleModel",
            "description_width": "initial",
            "_view_module": "@jupyter-widgets/base",
            "_model_module_version": "1.5.0",
            "_view_count": null,
            "_view_module_version": "1.2.0",
            "bar_color": null,
            "_model_module": "@jupyter-widgets/controls"
          }
        },
        "114f798c1e034f8aa515eb309d8d6379": {
          "model_module": "@jupyter-widgets/base",
          "model_name": "LayoutModel",
          "state": {
            "_view_name": "LayoutView",
            "grid_template_rows": null,
            "right": null,
            "justify_content": null,
            "_view_module": "@jupyter-widgets/base",
            "overflow": null,
            "_model_module_version": "1.2.0",
            "_view_count": null,
            "flex_flow": null,
            "width": null,
            "min_width": null,
            "border": null,
            "align_items": null,
            "bottom": null,
            "_model_module": "@jupyter-widgets/base",
            "top": null,
            "grid_column": null,
            "overflow_y": null,
            "overflow_x": null,
            "grid_auto_flow": null,
            "grid_area": null,
            "grid_template_columns": null,
            "flex": null,
            "_model_name": "LayoutModel",
            "justify_items": null,
            "grid_row": null,
            "max_height": null,
            "align_content": null,
            "visibility": null,
            "align_self": null,
            "height": null,
            "min_height": null,
            "padding": null,
            "grid_auto_rows": null,
            "grid_gap": null,
            "max_width": null,
            "order": null,
            "_view_module_version": "1.2.0",
            "grid_template_areas": null,
            "object_position": null,
            "object_fit": null,
            "grid_auto_columns": null,
            "margin": null,
            "display": null,
            "left": null
          }
        },
        "2a8b9bac7c6c4d10a9a7425a35747dda": {
          "model_module": "@jupyter-widgets/controls",
          "model_name": "DescriptionStyleModel",
          "state": {
            "_view_name": "StyleView",
            "_model_name": "DescriptionStyleModel",
            "description_width": "",
            "_view_module": "@jupyter-widgets/base",
            "_model_module_version": "1.5.0",
            "_view_count": null,
            "_view_module_version": "1.2.0",
            "_model_module": "@jupyter-widgets/controls"
          }
        },
        "66f6f9fc6ef94a7982de3342d8572ccf": {
          "model_module": "@jupyter-widgets/base",
          "model_name": "LayoutModel",
          "state": {
            "_view_name": "LayoutView",
            "grid_template_rows": null,
            "right": null,
            "justify_content": null,
            "_view_module": "@jupyter-widgets/base",
            "overflow": null,
            "_model_module_version": "1.2.0",
            "_view_count": null,
            "flex_flow": null,
            "width": null,
            "min_width": null,
            "border": null,
            "align_items": null,
            "bottom": null,
            "_model_module": "@jupyter-widgets/base",
            "top": null,
            "grid_column": null,
            "overflow_y": null,
            "overflow_x": null,
            "grid_auto_flow": null,
            "grid_area": null,
            "grid_template_columns": null,
            "flex": null,
            "_model_name": "LayoutModel",
            "justify_items": null,
            "grid_row": null,
            "max_height": null,
            "align_content": null,
            "visibility": null,
            "align_self": null,
            "height": null,
            "min_height": null,
            "padding": null,
            "grid_auto_rows": null,
            "grid_gap": null,
            "max_width": null,
            "order": null,
            "_view_module_version": "1.2.0",
            "grid_template_areas": null,
            "object_position": null,
            "object_fit": null,
            "grid_auto_columns": null,
            "margin": null,
            "display": null,
            "left": null
          }
        }
      }
    }
  },
  "cells": [
    {
      "cell_type": "markdown",
      "metadata": {
        "id": "ijEv0yG-znMB",
        "colab_type": "text"
      },
      "source": [
        "# Autoencoders\n",
        "\n",
        "- CNN takes an input image and transforms the image into a much smaller (X,Y)dimensions that can also be seen as a structure for data compression. Along the way, CNN also discard some spatial information, at the same time isolating high level information about its content.\n",
        "\n",
        "- Thus, CNN basically takes an input image in form of a feature vector and takes out spatial information from them in form of feature maps. This part which can be used to reconstruct back the original image using the feature maps is called as autoencoder.\n",
        "\n",
        "- A compressed representation can be great for saving and sharing any kind of data in a way that is more efficient than storing raw data. In practice, the compressed representation often holds key information about an input image and we can use it for denoising images or oher kinds of reconstruction and transformation.\n",
        "\n",
        "- The architectures of both encoder and decoder are in form of neural networks and the training process involves minimizing the difference between input and output. The key aspect of autoencoders is to keep the same quality of content in form of compressed representation.\n"
      ]
    },
    {
      "cell_type": "markdown",
      "metadata": {
        "id": "4jCds2K0zkRw",
        "colab_type": "text"
      },
      "source": [
        "## Linear Autoencoder\n",
        "\n",
        "![alt-text](https://blog.keras.io/img/ae/autoencoder_schema.jpg)\n",
        "\n",
        "(Image Credit: Keras Blog)\n",
        "\n",
        "With autoencoders, we pass input data through an encoder that makes a compressed representation of the input. Then, this representation is passed through a decoder to reconstruct the input data."
      ]
    },
    {
      "cell_type": "code",
      "metadata": {
        "id": "cNVLYGTb30IM",
        "colab_type": "code",
        "colab": {
          "base_uri": "https://localhost:8080/",
          "height": 356,
          "referenced_widgets": [
            "99b298b82fed4427b2dcc971098f9055",
            "ffb258707eb0480bb9315064f067118e",
            "70c1cc9fab28405c9a21ba99e5b21370",
            "4d92d3ba266241ed8a537994910caacc",
            "df508cf146d24db08ebf605fa1bf7eed",
            "b383baf0c9124d3aa42c2d8913c976d4",
            "d2178f3435514aecb84ef00561176bd6",
            "e6c76071d33c4901bb9f518eea5ce48a",
            "ac76aabc50ea41ff8ac87a3c374d96d7",
            "40a36c48c18548ac985257e285cbe962",
            "b41873cbce5448128999b881516ea9dd",
            "22081fc07acd4488a0cf5ffee641e8cc",
            "55059d9ac5e74944bd9b54370e87b663",
            "7729d9a075ba4a19b8f5f98805c43abb",
            "08e12ba88c184c0eb76843117159a886",
            "3e14540fcfdd4e4bb6721059b0c4228b",
            "8fa436c0ff814083a41e9ce222c20774",
            "04da48a721ee430c8ce6144d04a65899",
            "09fb132cfb404b98b4b3f8f020d46067",
            "2cc33da4eddd465583d1e202f5044514",
            "e5153aa4609d493fa1f6a72bda743260",
            "319dcd92edc44fb5941f5cd7cbd948fa",
            "4998787db2454dfaaee7967b578d4e5f",
            "5705a1016966448984cc82bab022e2fa",
            "60f81ed05c8141eab455670110f3adaa",
            "9e603c35a8a94286a5ff7579d41592cf",
            "ad40c8665add41a7a19876165fae6d7b",
            "0b74b6438e3c46a084e55b4865b5561c",
            "1ddb932ed5c44cf8853cce49836df944",
            "114f798c1e034f8aa515eb309d8d6379",
            "2a8b9bac7c6c4d10a9a7425a35747dda",
            "66f6f9fc6ef94a7982de3342d8572ccf"
          ]
        },
        "outputId": "5c5445bb-a52c-45de-9b69-c663fc7e0031"
      },
      "source": [
        "import torch\n",
        "import numpy as np\n",
        "from torchvision import datasets\n",
        "import torchvision.transforms as transforms\n",
        "\n",
        "# Convert Data to Torch Tensors\n",
        "transform = transforms.ToTensor()\n",
        "\n",
        "# Load Training and Testing Data\n",
        "train_data = datasets.MNIST(root='data', train=True, download=True, \n",
        "                            transform=transform)\n",
        "\n",
        "test_data = datasets.MNIST(root='data', train=False, download=True, \n",
        "                           transform=transform)"
      ],
      "execution_count": 2,
      "outputs": [
        {
          "output_type": "stream",
          "text": [
            "Downloading http://yann.lecun.com/exdb/mnist/train-images-idx3-ubyte.gz to data/MNIST/raw/train-images-idx3-ubyte.gz\n"
          ],
          "name": "stdout"
        },
        {
          "output_type": "display_data",
          "data": {
            "application/vnd.jupyter.widget-view+json": {
              "model_id": "99b298b82fed4427b2dcc971098f9055",
              "version_minor": 0,
              "version_major": 2
            },
            "text/plain": [
              "HBox(children=(FloatProgress(value=1.0, bar_style='info', max=1.0), HTML(value='')))"
            ]
          },
          "metadata": {
            "tags": []
          }
        },
        {
          "output_type": "stream",
          "text": [
            "Extracting data/MNIST/raw/train-images-idx3-ubyte.gz to data/MNIST/raw\n",
            "Downloading http://yann.lecun.com/exdb/mnist/train-labels-idx1-ubyte.gz to data/MNIST/raw/train-labels-idx1-ubyte.gz\n"
          ],
          "name": "stdout"
        },
        {
          "output_type": "display_data",
          "data": {
            "application/vnd.jupyter.widget-view+json": {
              "model_id": "ac76aabc50ea41ff8ac87a3c374d96d7",
              "version_minor": 0,
              "version_major": 2
            },
            "text/plain": [
              "HBox(children=(FloatProgress(value=1.0, bar_style='info', max=1.0), HTML(value='')))"
            ]
          },
          "metadata": {
            "tags": []
          }
        },
        {
          "output_type": "stream",
          "text": [
            "Extracting data/MNIST/raw/train-labels-idx1-ubyte.gz to data/MNIST/raw\n",
            "Downloading http://yann.lecun.com/exdb/mnist/t10k-images-idx3-ubyte.gz to data/MNIST/raw/t10k-images-idx3-ubyte.gz\n"
          ],
          "name": "stdout"
        },
        {
          "output_type": "display_data",
          "data": {
            "application/vnd.jupyter.widget-view+json": {
              "model_id": "8fa436c0ff814083a41e9ce222c20774",
              "version_minor": 0,
              "version_major": 2
            },
            "text/plain": [
              "HBox(children=(FloatProgress(value=1.0, bar_style='info', max=1.0), HTML(value='')))"
            ]
          },
          "metadata": {
            "tags": []
          }
        },
        {
          "output_type": "stream",
          "text": [
            "Extracting data/MNIST/raw/t10k-images-idx3-ubyte.gz to data/MNIST/raw\n",
            "Downloading http://yann.lecun.com/exdb/mnist/t10k-labels-idx1-ubyte.gz to data/MNIST/raw/t10k-labels-idx1-ubyte.gz\n"
          ],
          "name": "stdout"
        },
        {
          "output_type": "display_data",
          "data": {
            "application/vnd.jupyter.widget-view+json": {
              "model_id": "60f81ed05c8141eab455670110f3adaa",
              "version_minor": 0,
              "version_major": 2
            },
            "text/plain": [
              "HBox(children=(FloatProgress(value=1.0, bar_style='info', max=1.0), HTML(value='')))"
            ]
          },
          "metadata": {
            "tags": []
          }
        },
        {
          "output_type": "stream",
          "text": [
            "Extracting data/MNIST/raw/t10k-labels-idx1-ubyte.gz to data/MNIST/raw\n",
            "Processing...\n",
            "Done!\n"
          ],
          "name": "stdout"
        },
        {
          "output_type": "stream",
          "text": [
            "/pytorch/torch/csrc/utils/tensor_numpy.cpp:141: UserWarning: The given NumPy array is not writeable, and PyTorch does not support non-writeable tensors. This means you can write to the underlying (supposedly non-writeable) NumPy array using the tensor. You may want to copy the array to protect its data or make it writeable before converting it to a tensor. This type of warning will be suppressed for the rest of this program.\n"
          ],
          "name": "stderr"
        }
      ]
    },
    {
      "cell_type": "code",
      "metadata": {
        "id": "5AEb6qQT4gQD",
        "colab_type": "code",
        "colab": {}
      },
      "source": [
        "# Number of Subprocesses used for loading\n",
        "num_workers = 0\n",
        "\n",
        "# Number of training or testing instances sent in one epoch\n",
        "batch_size = 20\n",
        "\n",
        "# Training and Testing Data Loaders\n",
        "train_loader = torch.utils.data.DataLoader(train_data, batch_size=batch_size, num_workers=num_workers) \n",
        "\n",
        "test_loader = torch.utils.data.DataLoader(test_data, batch_size=batch_size, num_workers=num_workers)"
      ],
      "execution_count": 3,
      "outputs": []
    },
    {
      "cell_type": "code",
      "metadata": {
        "id": "zIpbtoaz5htF",
        "colab_type": "code",
        "colab": {
          "base_uri": "https://localhost:8080/",
          "height": 389
        },
        "outputId": "abd0cf4d-c038-4ffb-f9f7-6cb00821670e"
      },
      "source": [
        "# Visualising the data\n",
        "\n",
        "import matplotlib.pyplot as plt\n",
        "\n",
        "# obtain one batch of training images\n",
        "dataiter = iter(train_loader)\n",
        "images, labels = dataiter.next()\n",
        "images = images.numpy()\n",
        "\n",
        "# get one image from the batch\n",
        "img = np.squeeze(images[10])\n",
        "\n",
        "fig = plt.figure(figsize = (5,5)) \n",
        "ax = fig.add_subplot(111)\n",
        "ax.imshow(img, cmap='gray')"
      ],
      "execution_count": 4,
      "outputs": [
        {
          "output_type": "stream",
          "text": [
            "\n",
            "\n"
          ],
          "name": "stdout"
        },
        {
          "output_type": "execute_result",
          "data": {
            "text/plain": [
              "<matplotlib.image.AxesImage at 0x7f01b522c630>"
            ]
          },
          "metadata": {
            "tags": []
          },
          "execution_count": 4
        },
        {
          "output_type": "display_data",
          "data": {
            "image/png": "[encoded data removed]",
            "text/plain": [
              "<Figure size 360x360 with 1 Axes>"
            ]
          },
          "metadata": {
            "tags": [],
            "needs_background": "light"
          }
        },
        {
          "output_type": "stream",
          "text": [
            "\n"
          ],
          "name": "stdout"
        }
      ]
    },
    {
      "cell_type": "markdown",
      "metadata": {
        "id": "7WQ0h8UR8Dgt",
        "colab_type": "text"
      },
      "source": [
        "A simple autoencoder can take normalized images as input to its encoder-decoder architecture made up of **single layer** of neural networks and try to reconstruct the original input. \n",
        "\n",
        "The units that connect the encoder to the decoder is the compressed representation of the image, such that it constrains the amount of information which can traverse the full network, forcing a learned compression of the input data. This is known as a **bottleneck**.\n",
        "\n",
        "A bottleneck is a key attribute in the autoencoders because in its absence, the network will just memorize the input values, and become a rote-learned network that overfits on the training instances.\n",
        "\n",
        "![alt-text](https://www.jeremyjordan.me/content/images/2018/03/Screen-Shot-2018-03-06-at-3.17.13-PM.png)\n",
        "\n",
        "(Image Credit: Jeremy Jordan's Blog)\n",
        "\n",
        "In the case of MNIST, we have 28*28 sized input images which amount upto 784 pixels of data, that has to be reconstructed.\n",
        "\n",
        "![alt-text](https://viewb3dohjcrq1f.udacity-student-workspaces.com/files/notebook_ims/simple_autoencoder.png)\n",
        "\n",
        "(Image Credit: Udacity)"
      ]
    },
    {
      "cell_type": "code",
      "metadata": {
        "id": "2CoGdWSE5xaI",
        "colab_type": "code",
        "colab": {
          "base_uri": "https://localhost:8080/",
          "height": 86
        },
        "outputId": "621dbed4-130b-41e4-8039-f8847fa1e1e0"
      },
      "source": [
        "import torch.nn as nn\n",
        "import torch.nn.functional as F\n",
        "\n",
        "# neural network architecture\n",
        "\n",
        "class Autoencoder(nn.Module):\n",
        "  def __init__(self, encoding_dimension):\n",
        "    super(Autoencoder, self).__init__()\n",
        "\n",
        "    ## Encoder\n",
        "    self.fc1 = nn.Linear(28*28, encoding_dimension)\n",
        "\n",
        "    ## Decoder\n",
        "    self.fc2 = nn.Linear(encoding_dimension, 28*28)\n",
        "\n",
        "  def forward(self, x):\n",
        "    # Feed Forward the neural network\n",
        "    x = F.relu(self.fc1(x))\n",
        "    # Scale the output in range 0-1\n",
        "    x = F.sigmoid(self.fc2(x))\n",
        "\n",
        "    return x\n",
        "\n",
        "encoding_dim = 64\n",
        "model = Autoencoder(encoding_dim)\n",
        "print(model)"
      ],
      "execution_count": 5,
      "outputs": [
        {
          "output_type": "stream",
          "text": [
            "Autoencoder(\n",
            "  (fc1): Linear(in_features=784, out_features=64, bias=True)\n",
            "  (fc2): Linear(in_features=64, out_features=784, bias=True)\n",
            ")\n"
          ],
          "name": "stdout"
        }
      ]
    },
    {
      "cell_type": "markdown",
      "metadata": {
        "id": "9qtnY6N0_WlZ",
        "colab_type": "text"
      },
      "source": [
        "## Training \n",
        "\n",
        "For a simple autoencoder, we are comparing pixels from input and output images, hence it becomes suitable to use a loss function similar to regression tasks such as Mean Squared Loss.\n",
        "Thus, a simple loss function can be:\n",
        "\n",
        "**loss = criterion(outputs, images)**\n",
        "\n",
        "Regression is all about comparing quantities rather than probabilistic values, and hence we make a pretty straightforward autoencoder that takes inputs images, flattens them, runs a network and evaluates the loss on the pixel values through simple comparison."
      ]
    },
    {
      "cell_type": "code",
      "metadata": {
        "id": "JTy4uXjN_Jqc",
        "colab_type": "code",
        "colab": {}
      },
      "source": [
        "# Specify loss function\n",
        "criterion = nn.MSELoss()\n",
        "# Specify Optimizer\n",
        "optimizer = torch.optim.Adam(model.parameters(), lr=0.0001)"
      ],
      "execution_count": 6,
      "outputs": []
    },
    {
      "cell_type": "code",
      "metadata": {
        "id": "YvQtR3piAOo7",
        "colab_type": "code",
        "colab": {
          "base_uri": "https://localhost:8080/",
          "height": 486
        },
        "outputId": "fa28d06e-e3d3-4a4a-a77e-07f2a8252a9c"
      },
      "source": [
        "# Number of Training Epochs\n",
        "n_epochs = 25\n",
        "\n",
        "for epoch in range(1, n_epochs+1):\n",
        "  # Training Loss\n",
        "  train_loss = 0.0\n",
        "\n",
        "  for data in train_loader:\n",
        "\n",
        "    # _ = labels\n",
        "    images, _ = data\n",
        "\n",
        "    # flatten the images\n",
        "    images = images.view(images.size(0), -1)\n",
        "    # initialize gradients to zero\n",
        "    optimizer.zero_grad()\n",
        "    # forward pass\n",
        "    outputs = model(images)\n",
        "    # compute loss\n",
        "    loss = criterion(outputs, images)\n",
        "    # backward pass\n",
        "    loss.backward()\n",
        "    # parameter updates\n",
        "    optimizer.step()\n",
        "    # compute updated loss\n",
        "    train_loss += loss.item()*images.size(0)\n",
        "\n",
        "  train_loss = train_loss/len(train_loader)\n",
        "  print('Epoch: {} \\tTraining Loss: {:.6f}'.format(epoch, train_loss))"
      ],
      "execution_count": 12,
      "outputs": [
        {
          "output_type": "stream",
          "text": [
            "/usr/local/lib/python3.6/dist-packages/torch/nn/functional.py:1569: UserWarning: nn.functional.sigmoid is deprecated. Use torch.sigmoid instead.\n",
            "  warnings.warn(\"nn.functional.sigmoid is deprecated. Use torch.sigmoid instead.\")\n"
          ],
          "name": "stderr"
        },
        {
          "output_type": "stream",
          "text": [
            "Epoch: 1 \tTraining Loss: 1.144329\n",
            "Epoch: 2 \tTraining Loss: 0.571354\n",
            "Epoch: 3 \tTraining Loss: 0.403283\n",
            "Epoch: 4 \tTraining Loss: 0.313283\n",
            "Epoch: 5 \tTraining Loss: 0.255931\n",
            "Epoch: 6 \tTraining Loss: 0.215494\n",
            "Epoch: 7 \tTraining Loss: 0.185945\n",
            "Epoch: 8 \tTraining Loss: 0.164107\n",
            "Epoch: 9 \tTraining Loss: 0.147761\n",
            "Epoch: 10 \tTraining Loss: 0.135287\n",
            "Epoch: 11 \tTraining Loss: 0.125576\n",
            "Epoch: 12 \tTraining Loss: 0.117920\n",
            "Epoch: 13 \tTraining Loss: 0.111865\n",
            "Epoch: 14 \tTraining Loss: 0.106985\n",
            "Epoch: 15 \tTraining Loss: 0.102975\n",
            "Epoch: 16 \tTraining Loss: 0.099628\n",
            "Epoch: 17 \tTraining Loss: 0.096801\n",
            "Epoch: 18 \tTraining Loss: 0.094392\n",
            "Epoch: 19 \tTraining Loss: 0.092320\n",
            "Epoch: 20 \tTraining Loss: 0.090527\n",
            "Epoch: 21 \tTraining Loss: 0.088964\n",
            "Epoch: 22 \tTraining Loss: 0.087595\n",
            "Epoch: 23 \tTraining Loss: 0.086390\n",
            "Epoch: 24 \tTraining Loss: 0.085325\n",
            "Epoch: 25 \tTraining Loss: 0.084380\n"
          ],
          "name": "stdout"
        }
      ]
    },
    {
      "cell_type": "code",
      "metadata": {
        "id": "Ko1BtUMEDrqX",
        "colab_type": "code",
        "colab": {
          "base_uri": "https://localhost:8080/",
          "height": 287
        },
        "outputId": "89057dbb-a18d-4b21-9e1a-98c9d12f5ab0"
      },
      "source": [
        "# obtain one batch of test images\n",
        "dataiter = iter(test_loader)\n",
        "images, labels = dataiter.next()\n",
        "\n",
        "images_flatten = images.view(images.size(0), -1)\n",
        "# get sample outputs\n",
        "output = model(images_flatten)\n",
        "# prep images for display\n",
        "images = images.numpy()\n",
        "\n",
        "# output is resized into a batch of images\n",
        "output = output.view(batch_size, 1, 28, 28)\n",
        "# use detach when it's an output that requires_grad\n",
        "output = output.detach().numpy()\n",
        "\n",
        "# plot the first ten input images and then reconstructed images\n",
        "fig, axes = plt.subplots(nrows=2, ncols=10, sharex=True, sharey=True, figsize=(25,4))\n",
        "\n",
        "# input images on top row, reconstructions on bottom\n",
        "for images, row in zip([images, output], axes):\n",
        "    for img, ax in zip(images, row):\n",
        "        ax.imshow(np.squeeze(img), cmap='gray')\n",
        "        ax.get_xaxis().set_visible(False)\n",
        "        ax.get_yaxis().set_visible(False)"
      ],
      "execution_count": 13,
      "outputs": [
        {
          "output_type": "stream",
          "text": [
            "/usr/local/lib/python3.6/dist-packages/torch/nn/functional.py:1569: UserWarning: nn.functional.sigmoid is deprecated. Use torch.sigmoid instead.\n",
            "  warnings.warn(\"nn.functional.sigmoid is deprecated. Use torch.sigmoid instead.\")\n"
          ],
          "name": "stderr"
        },
        {
          "output_type": "display_data",
          "data": {
            "image/png": "[encoded data removed]",
            "text/plain": [
              "<Figure size 1800x288 with 20 Axes>"
            ]
          },
          "metadata": {
            "tags": [],
            "needs_background": "light"
          }
        }
      ]
    },
    {
      "cell_type": "markdown",
      "metadata": {
        "id": "i9c420-wHsDg",
        "colab_type": "text"
      },
      "source": [
        "## Convolutional Autoencoder\n",
        "\n",
        "- The idea of a decoder is that we need to increase the spatial dimensions of the compressed representation in order to obtain the original input image or close enough to it. Thus, instead of downsampling using maxpooling we can simply use an interpolation technique, for example, nearest-neighbors or linear interpolation to increase the dimensions of the compressed representation or the bottleneck.\n",
        "\n",
        "- The realistic larger images has much more complexity that cannot be handled by linear interpolation. Hence, we make use of transposed convolutional layer which does not use a predefined interpolation method, and has learnable parameters. It makes use of filter weights to increase the dimensions of image.\n",
        "\n",
        "- Deconvolution involves multiplying a single pixel value of the bottleneck with a filter that yields a resultant area. For example, we make use of a 3*3 filter on one pixel then we get a 3*3 area and when we do the same thing for all four pixels in a 2*2 image then we get a 5*5 output which overlaps with each others.\n",
        "\n",
        "- If we combine the idea of upsampling using nearest neighbors for interpolation with the idea of deconvolution then we get a denoised and a much clearer output from the compressed representation.\n",
        "\n",
        "Hence, let us try to improve the performance of the autoencoder using convolutional layers.\n",
        "\n",
        "![alt-text](https://viewcz8akq85t5i.udacity-student-workspaces.com/files/notebook_ims/conv_enc_1.png)\n",
        "(Image Credits: Udacity)\n"
      ]
    },
    {
      "cell_type": "code",
      "metadata": {
        "id": "9aiVIeRyDseS",
        "colab_type": "code",
        "colab": {
          "base_uri": "https://localhost:8080/",
          "height": 139
        },
        "outputId": "b081217b-8b2e-492e-f604-ddcd265fc29f"
      },
      "source": [
        "class ConvAutoencoder(nn.Module):\n",
        "  def __init__(self):\n",
        "    super(ConvAutoencoder, self).__init__()\n",
        "\n",
        "    # Encoder Layers\n",
        "\n",
        "    self.conv1 = nn.Conv2d(1, 16, 3, padding=1)\n",
        "    self.conv2 = nn.Conv2d(16, 4, 3, padding=1)\n",
        "    self.pool = nn.MaxPool2d(2, 2)\n",
        "\n",
        "\n",
        "    # Decoder Layers\n",
        "\n",
        "    self.t_conv1 = nn.ConvTranspose2d(4, 16, 2, stride=2)\n",
        "    self.t_conv2 = nn.ConvTranspose2d(16, 1, 2, stride=2)\n",
        "\n",
        "  def forward(self, x):\n",
        "    x = F.relu(self.conv1(x))\n",
        "    x = self.pool(x)\n",
        "    x = F.relu(self.conv2(x))\n",
        "    x = self.pool(x)\n",
        "\n",
        "\n",
        "    x = F.relu(self.t_conv1(x))\n",
        "    x = F.sigmoid(self.t_conv2(x))\n",
        "    return x\n",
        "\n",
        "model = ConvAutoencoder()\n",
        "print(model)"
      ],
      "execution_count": 8,
      "outputs": [
        {
          "output_type": "stream",
          "text": [
            "ConvAutoencoder(\n",
            "  (conv1): Conv2d(1, 16, kernel_size=(3, 3), stride=(1, 1), padding=(1, 1))\n",
            "  (conv2): Conv2d(16, 4, kernel_size=(3, 3), stride=(1, 1), padding=(1, 1))\n",
            "  (pool): MaxPool2d(kernel_size=2, stride=2, padding=0, dilation=1, ceil_mode=False)\n",
            "  (t_conv1): ConvTranspose2d(4, 16, kernel_size=(2, 2), stride=(2, 2))\n",
            "  (t_conv2): ConvTranspose2d(16, 1, kernel_size=(2, 2), stride=(2, 2))\n",
            ")\n"
          ],
          "name": "stdout"
        }
      ]
    },
    {
      "cell_type": "code",
      "metadata": {
        "id": "lTP8ig9wsNRf",
        "colab_type": "code",
        "colab": {}
      },
      "source": [
        "# specify loss function\n",
        "criterion = nn.MSELoss()\n",
        "\n",
        "# specify loss function\n",
        "optimizer = torch.optim.Adam(model.parameters(), lr=0.001)"
      ],
      "execution_count": 9,
      "outputs": []
    },
    {
      "cell_type": "code",
      "metadata": {
        "id": "O-n4_Xv9r4yU",
        "colab_type": "code",
        "colab": {
          "base_uri": "https://localhost:8080/",
          "height": 573
        },
        "outputId": "660e0afc-dea2-4b78-899a-9cfde27bb5f8"
      },
      "source": [
        "n_epochs = 30\n",
        "for epoch in range(1, n_epochs+1):\n",
        "  train_loss = 0.0\n",
        "\n",
        "  for data in train_loader:\n",
        "    # input images and unknown labels\n",
        "    images, _ = data\n",
        "\n",
        "    # making all the gradients as zero\n",
        "    optimizer.zero_grad()\n",
        "    # forward pass the images\n",
        "    outputs = model(images)\n",
        "    # calculate the loss\n",
        "    loss = criterion(outputs, images)\n",
        "    # backward pass\n",
        "    loss.backward()\n",
        "    # perform parameter updation\n",
        "    optimizer.step()\n",
        "    train_loss += loss.item()*images.size(0)\n",
        "\n",
        "  train_loss = train_loss/len(train_loader)\n",
        "  print('Epoch: {} \\tTraining Loss: {:.6f}'.format(epoch, train_loss))"
      ],
      "execution_count": 10,
      "outputs": [
        {
          "output_type": "stream",
          "text": [
            "/usr/local/lib/python3.6/dist-packages/torch/nn/functional.py:1569: UserWarning: nn.functional.sigmoid is deprecated. Use torch.sigmoid instead.\n",
            "  warnings.warn(\"nn.functional.sigmoid is deprecated. Use torch.sigmoid instead.\")\n"
          ],
          "name": "stderr"
        },
        {
          "output_type": "stream",
          "text": [
            "Epoch: 1 \tTraining Loss: 0.578046\n",
            "Epoch: 2 \tTraining Loss: 0.297937\n",
            "Epoch: 3 \tTraining Loss: 0.276346\n",
            "Epoch: 4 \tTraining Loss: 0.262458\n",
            "Epoch: 5 \tTraining Loss: 0.254944\n",
            "Epoch: 6 \tTraining Loss: 0.250068\n",
            "Epoch: 7 \tTraining Loss: 0.246468\n",
            "Epoch: 8 \tTraining Loss: 0.243659\n",
            "Epoch: 9 \tTraining Loss: 0.240975\n",
            "Epoch: 10 \tTraining Loss: 0.237913\n",
            "Epoch: 11 \tTraining Loss: 0.234556\n",
            "Epoch: 12 \tTraining Loss: 0.231964\n",
            "Epoch: 13 \tTraining Loss: 0.230035\n",
            "Epoch: 14 \tTraining Loss: 0.228303\n",
            "Epoch: 15 \tTraining Loss: 0.226792\n",
            "Epoch: 16 \tTraining Loss: 0.225538\n",
            "Epoch: 17 \tTraining Loss: 0.224430\n",
            "Epoch: 18 \tTraining Loss: 0.223395\n",
            "Epoch: 19 \tTraining Loss: 0.222426\n",
            "Epoch: 20 \tTraining Loss: 0.221516\n",
            "Epoch: 21 \tTraining Loss: 0.220681\n",
            "Epoch: 22 \tTraining Loss: 0.219940\n",
            "Epoch: 23 \tTraining Loss: 0.219303\n",
            "Epoch: 24 \tTraining Loss: 0.218774\n",
            "Epoch: 25 \tTraining Loss: 0.218322\n",
            "Epoch: 26 \tTraining Loss: 0.217943\n",
            "Epoch: 27 \tTraining Loss: 0.217611\n",
            "Epoch: 28 \tTraining Loss: 0.217336\n",
            "Epoch: 29 \tTraining Loss: 0.217087\n",
            "Epoch: 30 \tTraining Loss: 0.216861\n"
          ],
          "name": "stdout"
        }
      ]
    },
    {
      "cell_type": "code",
      "metadata": {
        "id": "_5OU4jDEsIh2",
        "colab_type": "code",
        "colab": {
          "base_uri": "https://localhost:8080/",
          "height": 287
        },
        "outputId": "06bd159e-7e93-41a0-cb76-e69420b32ea9"
      },
      "source": [
        "dataiter = iter(test_loader)\n",
        "images, labels = dataiter.next()\n",
        "\n",
        "# get sample outputs\n",
        "output = model(images)\n",
        "# prep images for display\n",
        "images = images.numpy()\n",
        "\n",
        "# output is resized into a batch of images\n",
        "output = output.view(batch_size, 1, 28, 28)\n",
        "output = output.detach().numpy()\n",
        "\n",
        "fig, axes = plt.subplots(nrows=2, ncols=10, sharex=True, sharey=True, figsize=(25,4))\n",
        "\n",
        "# input images on top row, reconstructions on bottom\n",
        "for images, row in zip([images, output], axes):\n",
        "    for img, ax in zip(images, row):\n",
        "        ax.imshow(np.squeeze(img), cmap='gray')\n",
        "        ax.get_xaxis().set_visible(False)\n",
        "        ax.get_yaxis().set_visible(False)"
      ],
      "execution_count": 12,
      "outputs": [
        {
          "output_type": "stream",
          "text": [
            "/usr/local/lib/python3.6/dist-packages/torch/nn/functional.py:1569: UserWarning: nn.functional.sigmoid is deprecated. Use torch.sigmoid instead.\n",
            "  warnings.warn(\"nn.functional.sigmoid is deprecated. Use torch.sigmoid instead.\")\n"
          ],
          "name": "stderr"
        },
        {
          "output_type": "display_data",
          "data": {
            "image/png": "[encoded data removed]",
            "text/plain": [
              "<Figure size 1800x288 with 20 Axes>"
            ]
          },
          "metadata": {
            "tags": [],
            "needs_background": "light"
          }
        }
      ]
    },
    {
      "cell_type": "markdown",
      "metadata": {
        "id": "HxrrvznZRGA4",
        "colab_type": "text"
      },
      "source": [
        "## Denoising Autoencoder\n",
        "\n",
        "It is well known that autoencoders can be used to get compressed representation of images, however we can also use the same to reconstruct non-noisy images from noisy representations using autoencoders.\n",
        "\n",
        "- Encoder learns to distill information from the input image.\n",
        "- Decoder can learn to construct non-noisy images.\n",
        "\n",
        "Hence, we try to create a deeper network and will feed noisy input images using a salt-pepper noise filter and try to reconstruct clearer images with the help of the network.\n",
        "![alt-text](https://viewfg84g2jma2g.udacity-student-workspaces.com/files/notebook_ims/denoising.png)\n"
      ]
    },
    {
      "cell_type": "code",
      "metadata": {
        "id": "4D2aAHAzMVWc",
        "colab_type": "code",
        "colab": {
          "base_uri": "https://localhost:8080/",
          "height": 191
        },
        "outputId": "4609dec8-0221-47ad-b1d1-4978f995f0fa"
      },
      "source": [
        "class ConvDenoisingAutoEncoder(nn.Module):\n",
        "  def __init__(self):\n",
        "    super(ConvDenoisingAutoEncoder, self).__init__()\n",
        "    self.conv1 = nn.Conv2d(1, 32, 3, padding=1)\n",
        "    self.conv2 = nn.Conv2d(32, 16, 3, padding=1)\n",
        "    self.conv3 = nn.Conv2d(16, 8, 3, padding=1)\n",
        "    self.maxpool = nn.MaxPool2d(2, 2)\n",
        "    self.t_conv1 = nn.ConvTranspose2d(8, 8, 3, stride=2)\n",
        "    self.t_conv2 = nn.ConvTranspose2d(8, 16, 2, stride=2)\n",
        "    self.t_conv3 = nn.ConvTranspose2d(16, 32, 2, stride=2)\n",
        "    self.convout = nn.Conv2d(32, 1, 3, padding=1)\n",
        "\n",
        "  def forward(self, x):\n",
        "    x = F.relu(self.conv1(x))\n",
        "    x = self.maxpool(x)\n",
        "    x = F.relu(self.conv2(x))\n",
        "    x = self.maxpool(x)\n",
        "    x = F.relu(self.conv3(x))\n",
        "    x = self.maxpool(x)\n",
        "    x = F.relu(self.t_conv1(x))\n",
        "    x = F.relu(self.t_conv2(x))\n",
        "    x = F.relu(self.t_conv3(x))\n",
        "    x = F.sigmoid(self.convout(x))\n",
        "    return x\n",
        "model = ConvDenoisingAutoEncoder()\n",
        "print(model)"
      ],
      "execution_count": 17,
      "outputs": [
        {
          "output_type": "stream",
          "text": [
            "ConvDenoisingAutoEncoder(\n",
            "  (conv1): Conv2d(1, 32, kernel_size=(3, 3), stride=(1, 1), padding=(1, 1))\n",
            "  (conv2): Conv2d(32, 16, kernel_size=(3, 3), stride=(1, 1), padding=(1, 1))\n",
            "  (conv3): Conv2d(16, 8, kernel_size=(3, 3), stride=(1, 1), padding=(1, 1))\n",
            "  (maxpool): MaxPool2d(kernel_size=2, stride=2, padding=0, dilation=1, ceil_mode=False)\n",
            "  (t_conv1): ConvTranspose2d(8, 8, kernel_size=(3, 3), stride=(2, 2))\n",
            "  (t_conv2): ConvTranspose2d(8, 16, kernel_size=(2, 2), stride=(2, 2))\n",
            "  (t_conv3): ConvTranspose2d(16, 32, kernel_size=(2, 2), stride=(2, 2))\n",
            "  (convout): Conv2d(32, 1, kernel_size=(3, 3), stride=(1, 1), padding=(1, 1))\n",
            ")\n"
          ],
          "name": "stdout"
        }
      ]
    },
    {
      "cell_type": "code",
      "metadata": {
        "id": "Hwg0zr1uygOt",
        "colab_type": "code",
        "colab": {}
      },
      "source": [
        "# specify loss function\n",
        "criterion = nn.MSELoss()\n",
        "\n",
        "# specify loss function\n",
        "optimizer = torch.optim.Adam(model.parameters(), lr=0.001)"
      ],
      "execution_count": 18,
      "outputs": []
    },
    {
      "cell_type": "code",
      "metadata": {
        "id": "9FZAj1k2yjPv",
        "colab_type": "code",
        "colab": {
          "base_uri": "https://localhost:8080/",
          "height": 399
        },
        "outputId": "736ed414-b593-4eb7-ad48-76671ba9257a"
      },
      "source": [
        "# number of epochs to train the model\n",
        "n_epochs = 20\n",
        "\n",
        "# for adding noise to images\n",
        "noise_factor=0.5\n",
        "\n",
        "for epoch in range(1, n_epochs+1):\n",
        "    # monitor training loss\n",
        "    train_loss = 0.0\n",
        "    \n",
        "    ###################\n",
        "    # train the model #\n",
        "    ###################\n",
        "    for data in train_loader:\n",
        "        # _ stands in for labels, here\n",
        "        # no need to flatten images\n",
        "        images, _ = data\n",
        "        \n",
        "        ## add random noise to the input images\n",
        "        noisy_imgs = images + noise_factor * torch.randn(*images.shape)\n",
        "        # Clip the images to be between 0 and 1\n",
        "        noisy_imgs = np.clip(noisy_imgs, 0., 1.)\n",
        "                \n",
        "        # clear the gradients of all optimized variables\n",
        "        optimizer.zero_grad()\n",
        "        ## forward pass: compute predicted outputs by passing *noisy* images to the model\n",
        "        outputs = model(noisy_imgs)\n",
        "        # calculate the loss\n",
        "        # the \"target\" is still the original, not-noisy images\n",
        "        loss = criterion(outputs, images)\n",
        "        # backward pass: compute gradient of the loss with respect to model parameters\n",
        "        loss.backward()\n",
        "        # perform a single optimization step (parameter update)\n",
        "        optimizer.step()\n",
        "        # update running training loss\n",
        "        train_loss += loss.item()*images.size(0)\n",
        "            \n",
        "    # print avg training statistics \n",
        "    train_loss = train_loss/len(train_loader)\n",
        "    print('Epoch: {} \\tTraining Loss: {:.6f}'.format(\n",
        "        epoch, \n",
        "        train_loss))"
      ],
      "execution_count": 20,
      "outputs": [
        {
          "output_type": "stream",
          "text": [
            "/usr/local/lib/python3.6/dist-packages/torch/nn/functional.py:1569: UserWarning: nn.functional.sigmoid is deprecated. Use torch.sigmoid instead.\n",
            "  warnings.warn(\"nn.functional.sigmoid is deprecated. Use torch.sigmoid instead.\")\n"
          ],
          "name": "stderr"
        },
        {
          "output_type": "stream",
          "text": [
            "Epoch: 1 \tTraining Loss: 0.647940\n",
            "Epoch: 2 \tTraining Loss: 0.577711\n",
            "Epoch: 3 \tTraining Loss: 0.538427\n",
            "Epoch: 4 \tTraining Loss: 0.512286\n",
            "Epoch: 5 \tTraining Loss: 0.495798\n",
            "Epoch: 6 \tTraining Loss: 0.484783\n",
            "Epoch: 7 \tTraining Loss: 0.475639\n",
            "Epoch: 8 \tTraining Loss: 0.470185\n",
            "Epoch: 9 \tTraining Loss: 0.464307\n",
            "Epoch: 10 \tTraining Loss: 0.460265\n",
            "Epoch: 11 \tTraining Loss: 0.455967\n",
            "Epoch: 12 \tTraining Loss: 0.452160\n",
            "Epoch: 13 \tTraining Loss: 0.448594\n",
            "Epoch: 14 \tTraining Loss: 0.446097\n",
            "Epoch: 15 \tTraining Loss: 0.443050\n",
            "Epoch: 16 \tTraining Loss: 0.440170\n",
            "Epoch: 17 \tTraining Loss: 0.437558\n",
            "Epoch: 18 \tTraining Loss: 0.434294\n",
            "Epoch: 19 \tTraining Loss: 0.431963\n",
            "Epoch: 20 \tTraining Loss: 0.430230\n"
          ],
          "name": "stdout"
        }
      ]
    },
    {
      "cell_type": "code",
      "metadata": {
        "id": "thP_tzzlyr5O",
        "colab_type": "code",
        "colab": {
          "base_uri": "https://localhost:8080/",
          "height": 287
        },
        "outputId": "c59edf9e-ff96-4546-df9d-4cace4e78fce"
      },
      "source": [
        "# obtain one batch of test images\n",
        "dataiter = iter(test_loader)\n",
        "images, labels = dataiter.next()\n",
        "\n",
        "# add noise to the test images\n",
        "noisy_imgs = images + noise_factor * torch.randn(*images.shape)\n",
        "noisy_imgs = np.clip(noisy_imgs, 0., 1.)\n",
        "\n",
        "# get sample outputs\n",
        "output = model(noisy_imgs)\n",
        "# prep images for display\n",
        "noisy_imgs = noisy_imgs.numpy()\n",
        "\n",
        "# output is resized into a batch of iages\n",
        "output = output.view(batch_size, 1, 28, 28)\n",
        "# use detach when it's an output that requires_grad\n",
        "output = output.detach().numpy()\n",
        "\n",
        "# plot the first ten input images and then reconstructed images\n",
        "fig, axes = plt.subplots(nrows=2, ncols=10, sharex=True, sharey=True, figsize=(25,4))\n",
        "\n",
        "# input images on top row, reconstructions on bottom\n",
        "for noisy_imgs, row in zip([noisy_imgs, output], axes):\n",
        "    for img, ax in zip(noisy_imgs, row):\n",
        "        ax.imshow(np.squeeze(img), cmap='gray')\n",
        "        ax.get_xaxis().set_visible(False)\n",
        "        ax.get_yaxis().set_visible(False)"
      ],
      "execution_count": 21,
      "outputs": [
        {
          "output_type": "stream",
          "text": [
            "/usr/local/lib/python3.6/dist-packages/torch/nn/functional.py:1569: UserWarning: nn.functional.sigmoid is deprecated. Use torch.sigmoid instead.\n",
            "  warnings.warn(\"nn.functional.sigmoid is deprecated. Use torch.sigmoid instead.\")\n"
          ],
          "name": "stderr"
        },
        {
          "output_type": "display_data",
          "data": {
            "image/png": "[encoded data removed]",
            "text/plain": [
              "<Figure size 1800x288 with 20 Axes>"
            ]
          },
          "metadata": {
            "tags": [],
            "needs_background": "light"
          }
        }
      ]
    }
  ]
}