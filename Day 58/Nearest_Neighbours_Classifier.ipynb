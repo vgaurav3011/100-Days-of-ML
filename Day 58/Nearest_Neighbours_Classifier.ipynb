{
  "nbformat": 4,
  "nbformat_minor": 0,
  "metadata": {
    "colab": {
      "name": "Nearest-Neighbours-Classifier.ipynb",
      "provenance": []
    },
    "kernelspec": {
      "name": "python3",
      "display_name": "Python 3"
    },
    "accelerator": "GPU"
  },
  "cells": [
    {
      "cell_type": "markdown",
      "metadata": {
        "id": "QW99QLhhX_uG",
        "colab_type": "text"
      },
      "source": [
        "# Image Classification\n",
        "\n",
        "- Nearest Neighbours Classifier\n",
        "- k-nearest Neighbours Classifier\n",
        "- Validation Set for Hyperparameter Tuning\n",
        "\n",
        "## Nearest Neighbours Classifier\n",
        "\n",
        "- Rarely used in practice\n",
        "- Compares the test image with all training image to determine the relative closeness in terms of pixel to predict the label as the closest training image.\n",
        "- A simplest way of comparison is to take the absolute difference of pixels in the training and the test image.\n",
        "\n",
        "![alt-text](https://cs231n.github.io/assets/nneg.jpeg)\n",
        "\n",
        "Source: CS231n\n",
        "\n",
        "Let us try to implement the nearest neighbors classifier as given in the CS231n modules.\n"
      ]
    },
    {
      "cell_type": "code",
      "metadata": {
        "id": "hHAy2Ta-aAmV",
        "colab_type": "code",
        "colab": {}
      },
      "source": [
        "import tensorflow as tf"
      ],
      "execution_count": null,
      "outputs": []
    },
    {
      "cell_type": "code",
      "metadata": {
        "id": "wjKuOLPAaEhk",
        "colab_type": "code",
        "colab": {}
      },
      "source": [
        "(X_train, y_train), (X_test, y_test) = tf.keras.datasets.cifar10.load_data()"
      ],
      "execution_count": null,
      "outputs": []
    },
    {
      "cell_type": "code",
      "metadata": {
        "id": "U_A0V1J5aY1Q",
        "colab_type": "code",
        "colab": {}
      },
      "source": [
        "# Reshaping the images to be 32*32 with 3 channels\n",
        "Xtrain_rows = X_train.reshape(X_train.shape[0], 32 * 32 * 3)\n",
        "Xtest_rows = X_test.reshape(X_test.shape[0], 32 * 32 * 3)"
      ],
      "execution_count": null,
      "outputs": []
    },
    {
      "cell_type": "code",
      "metadata": {
        "id": "fI010KXoZA38",
        "colab_type": "code",
        "colab": {}
      },
      "source": [
        "import numpy as np\n",
        "class NearestNeighbours(object):\n",
        "  def __init__(self):\n",
        "    pass\n",
        "  def train(self, X, y):\n",
        "    \"\"\" X is N x D where each row is an example. Y is 1-dimension of size N \"\"\"\n",
        "    # the nearest neighbor classifier simply remembers all the training data\n",
        "    self.X_train = X\n",
        "    self.y_train = y\n",
        "  def predict(self, X):\n",
        "    \"\"\" X is N x D where each row is an example we wish to predict label for \"\"\"\n",
        "    num_test = X.shape[0]\n",
        "    # lets make sure that the output type matches the input type\n",
        "    Ypred = np.zeros(num_test, dtype = self.y_train.dtype)\n",
        "\n",
        "    # loop over all test rows\n",
        "    for i in range(num_test):\n",
        "      # find the nearest training image to the i'th test image\n",
        "      # using the L1 distance (sum of absolute value differences)\n",
        "      distances = np.sum(np.abs(self.X_train - X[i,:]), axis = 1)\n",
        "      min_index = np.argmin(distances) # get the index with smallest distance\n",
        "      Ypred[i] = self.y_train[min_index] # predict the label of the nearest example\n",
        "\n",
        "    return Ypred\n",
        "  \n",
        "  "
      ],
      "execution_count": null,
      "outputs": []
    },
    {
      "cell_type": "code",
      "metadata": {
        "id": "5XTQjRMda7R9",
        "colab_type": "code",
        "colab": {
          "base_uri": "https://localhost:8080/",
          "height": 34
        },
        "outputId": "030e001d-cac9-4447-8052-38a547fc66f0"
      },
      "source": [
        "nn = NearestNeighbours() # create a Nearest Neighbor classifier class\n",
        "nn.train(Xtrain_rows, y_train) # train the classifier on the training images and labels\n",
        "Yte_predict = nn.predict(Xtest_rows) # predict labels on the test images\n",
        "# and now print the classification accuracy, which is the average number\n",
        "# of examples that are correctly predicted (i.e. label matches)\n",
        "print('accuracy: %f' % ( np.mean(Yte_predict == y_test) ))\n"
      ],
      "execution_count": null,
      "outputs": [
        {
          "output_type": "stream",
          "text": [
            "accuracy: 0.100000\n"
          ],
          "name": "stdout"
        }
      ]
    },
    {
      "cell_type": "markdown",
      "metadata": {
        "id": "8eFW4hCtcZdD",
        "colab_type": "text"
      },
      "source": [
        "## Distance Metrics\n",
        "\n",
        "There are many techniques to compute the distance between vectors. A good distance metric makes the required change in the training process of a model. Clearly as we can observe, the absolute difference does not work very well and is missing on a lot of features, not to mention that the relative closeness is not determined in absolute terms and has many other factors.\n",
        "\n",
        "In general, many instance-based learning algorithms such as nearest neighbours itself make use of distance metrics. The four most important distance metrics in machine learning are:\n",
        "\n",
        "1. **Hamming Distance**: It calculates the distance between two binary vectors, also known as binary strings or bitstrings for short. \n",
        "\n",
        "- It is a measure of similarity between two strings of same length by comparing each corresponding character in the string and the number of positions at which the characters are different is referred as the hamming distance.\n",
        "For example, Consider S1 = 'Delhi' and S2 = 'Delby'\n",
        "We compare the corresponding characters to find the difference in the last two characters are different, so the hamming distance is 2!\n",
        "\n",
        "2. **Euclidean Distance**: It calculates the distance between two real-valued vectors.\n",
        "\n",
        "- It is the shortest distance known between two points.\n",
        "- For given points,  $$(p_{1}, q_{1}), (p_{2}, q_{2})$$\n",
        "The Euclidean Distance is defined as follows:\n",
        "> $$D_{n} = {\\sqrt{(p_1^2 - q_1^2) + (p_2^2 - q_2^2)}}$$\n",
        "\n",
        "- Note: If the columns have different units to compare, then we need to normalise them before making use of Euclidean Distance.\n",
        "- It is calculated as the square root of the sum of the squared differences between the two vectors.\n",
        "- If there are millions of calculations to be done then we can simply remove the square root to reduce computational complexity.\n",
        "- The resulting scores will have the same relative proportions after this modification and can still be used effectively within a machine learning algorithm for finding the most similar examples.<br/>\n",
        "![alt-text](https://upload.wikimedia.org/wikipedia/commons/thumb/5/55/Euclidean_distance_2d.svg/220px-Euclidean_distance_2d.svg.png)\n",
        "\n",
        "3. **Manhattan Distance**: Manhattan Distance is the sum of absolute differences between points across all the dimensions.\n",
        "\n",
        "- We used Manhattan Distance in the aforementioned Nearest Neighbours Example.\n",
        "\n",
        "- For given points,  $$(p_{1}, q_{1}), (p_{2}, q_{2})$$\n",
        "\n",
        "The Manhattan Distance is given by:\n",
        "\n",
        "> $$D_{n} = {|p_{1} - q_{1}| + |p_{2} - q_{2}|}$$\n",
        "\n",
        "4. **Minkowski Distance**: It is the generalized form of Manhattan and Euclidean Distances. It simply adds up an order term 'p' whose value decides whether the distance metric is Manhattan or Euclidean or any higher ordered.\n",
        "\n",
        "- When p is set to 1, the calculation is the same as the Manhattan distance. When p is set to 2, it is the same as the Euclidean distance.\n",
        "\n",
        "-    p=1: Manhattan distance.\n",
        "-    p=2: Euclidean distance.\n",
        "\n",
        "- It gives a balance to distance metric since we can also incorporate intermediate values.\n",
        "\n",
        "- For given points,  $$(p_{1}, q_{1}), (p_{2}, q_{2})$$\n",
        "\n",
        "> $$D_{n} = {((|p_{1} - q_{1}| + |p_{2} - q_{2}|)^p)^1/p}$$\n",
        "\n"
      ]
    },
    {
      "cell_type": "code",
      "metadata": {
        "id": "7bK1arbresh7",
        "colab_type": "code",
        "colab": {}
      },
      "source": [
        "# Library for Distance Metrics\n",
        "from scipy.spatial import distance\n"
      ],
      "execution_count": null,
      "outputs": []
    },
    {
      "cell_type": "code",
      "metadata": {
        "id": "GYCzUTQVoope",
        "colab_type": "code",
        "colab": {
          "base_uri": "https://localhost:8080/",
          "height": 34
        },
        "outputId": "cef0ba87-72cf-4f20-d2c8-0c6209b87845"
      },
      "source": [
        "# Hamming Distance\n",
        "string_1, string_2 = 'Delhi', 'Delby'\n",
        "hamming_distance = distance.hamming(list(string_1), list(string_2))*len(string_1)\n",
        "print('Hamming Distance b/w', string_1, 'and', string_2, 'is: ', hamming_distance)"
      ],
      "execution_count": null,
      "outputs": [
        {
          "output_type": "stream",
          "text": [
            "Hamming Distance b/w Delhi and Delby is:  2.0\n"
          ],
          "name": "stdout"
        }
      ]
    },
    {
      "cell_type": "code",
      "metadata": {
        "id": "s4Jfn2cLovHr",
        "colab_type": "code",
        "colab": {
          "base_uri": "https://localhost:8080/",
          "height": 52
        },
        "outputId": "bd353742-1187-46f1-a4c6-fb449421f38e"
      },
      "source": [
        "# We can also define our very own method for computing Hamming Distance\n",
        "def HammingDistance(a, b):\n",
        "  return sum(abs(e1 - e2) for e1, e2 in zip(a, b))/len(a)\n",
        "# We generally use one-hot encoded data instead of strings in categorical data\n",
        "row1 = [0, 0, 0, 0, 0, 1]\n",
        "row2 = [0, 0, 0, 0, 1, 0]\n",
        "# calculate distance\n",
        "dist = HammingDistance(row1, row2)\n",
        "print(dist)\n",
        "# to verify our calculation:\n",
        "print(\"Hamming Distance by Pre-Built method: \", distance.hamming(row1, row2))"
      ],
      "execution_count": null,
      "outputs": [
        {
          "output_type": "stream",
          "text": [
            "0.3333333333333333\n",
            "Hamming Distance by Pre-Built method:  0.3333333333333333\n"
          ],
          "name": "stdout"
        }
      ]
    },
    {
      "cell_type": "code",
      "metadata": {
        "id": "zX8qWIGN1MMF",
        "colab_type": "code",
        "colab": {
          "base_uri": "https://localhost:8080/",
          "height": 34
        },
        "outputId": "71e773ac-b90b-44f4-8643-12538e4cba12"
      },
      "source": [
        "# Euclidean Distance\n",
        "point_1 = (1, 2, 3)\n",
        "point_2 = (4, 5, 6)\n",
        "euclidean_distance = distance.euclidean(point_1, point_2)\n",
        "print(\"Euclidean Distance = \", euclidean_distance)"
      ],
      "execution_count": null,
      "outputs": [
        {
          "output_type": "stream",
          "text": [
            "Euclidean Distance =  5.196152422706632\n"
          ],
          "name": "stdout"
        }
      ]
    },
    {
      "cell_type": "code",
      "metadata": {
        "id": "QZQrDs9b1Xez",
        "colab_type": "code",
        "colab": {
          "base_uri": "https://localhost:8080/",
          "height": 34
        },
        "outputId": "77d481d0-bc68-419c-c261-34fdd08e8319"
      },
      "source": [
        "# We can compute it using our own method as well\n",
        "def euclidean_dist(a, b):\n",
        "\treturn sqrt(sum((e1-e2)**2 for e1, e2 in zip(a,b)))\n",
        "dist = euclidean_dist(point_1, point_2)\n",
        "print(\"Euclidean Distance = \", dist)"
      ],
      "execution_count": null,
      "outputs": [
        {
          "output_type": "stream",
          "text": [
            "Euclidean Distance =  5.196152422706632\n"
          ],
          "name": "stdout"
        }
      ]
    },
    {
      "cell_type": "code",
      "metadata": {
        "id": "Hvbaq8LZ3U-m",
        "colab_type": "code",
        "colab": {
          "base_uri": "https://localhost:8080/",
          "height": 34
        },
        "outputId": "cb57acfe-7301-43d7-b35d-dbd3f8bb95ab"
      },
      "source": [
        "manhattan = distance.cityblock(point_1, point_2)\n",
        "print(\"Manhattan Distance = \", manhattan)"
      ],
      "execution_count": null,
      "outputs": [
        {
          "output_type": "stream",
          "text": [
            "Manhattan Distance =  9\n"
          ],
          "name": "stdout"
        }
      ]
    },
    {
      "cell_type": "code",
      "metadata": {
        "id": "ILocq_VU3KjV",
        "colab_type": "code",
        "colab": {
          "base_uri": "https://localhost:8080/",
          "height": 34
        },
        "outputId": "e9df26de-cee4-426a-a3de-cdf2bdf320c0"
      },
      "source": [
        "# Manhattan Distance using our own method\n",
        "def manhattan_distance(a, b):\n",
        "\treturn sum(abs(e1-e2) for e1, e2 in zip(a,b))\n",
        "print(\"Manhattan Distance = \", manhattan_distance(point_1, point_2))"
      ],
      "execution_count": null,
      "outputs": [
        {
          "output_type": "stream",
          "text": [
            "Manhattan Distance =  9\n"
          ],
          "name": "stdout"
        }
      ]
    },
    {
      "cell_type": "code",
      "metadata": {
        "id": "GiF_yPV_3TAj",
        "colab_type": "code",
        "colab": {
          "base_uri": "https://localhost:8080/",
          "height": 52
        },
        "outputId": "54c0c777-b1c6-462f-da57-5021a26b10a2"
      },
      "source": [
        "# Minkowski Distance\n",
        "minkowski_dist = distance.minkowski(point_1, point_2, 1)\n",
        "# This should be equivalent to Manhattan Distance\n",
        "print(\"M1 = \", minowski_dist)\n",
        "# This should be equivalent to Euclidean Distance\n",
        "M2 = distance.minkowski(point_1, point_2, 2)\n",
        "print(\"M2 = \", M2)"
      ],
      "execution_count": null,
      "outputs": [
        {
          "output_type": "stream",
          "text": [
            "M1 =  9.0\n",
            "M2 =  5.196152422706632\n"
          ],
          "name": "stdout"
        }
      ]
    },
    {
      "cell_type": "code",
      "metadata": {
        "id": "_UtMx9ti6QFl",
        "colab_type": "code",
        "colab": {
          "base_uri": "https://localhost:8080/",
          "height": 52
        },
        "outputId": "9d5a306e-7642-4cb4-8f81-eb1310aa1def"
      },
      "source": [
        "# User defined method\n",
        "def minkowski_distance(a, b, p):\n",
        "\treturn sum(abs(e1-e2)**p for e1, e2 in zip(a,b))**(1/p)\n",
        "print(\"M1 = \", minkowski_distance(point_1, point_2, 1))\n",
        "print(\"M2 = \", minkowski_distance(point_1, point_2, 2))"
      ],
      "execution_count": null,
      "outputs": [
        {
          "output_type": "stream",
          "text": [
            "M1 =  9.0\n",
            "M2 =  5.196152422706632\n"
          ],
          "name": "stdout"
        }
      ]
    },
    {
      "cell_type": "markdown",
      "metadata": {
        "id": "chqOX4hM65rH",
        "colab_type": "text"
      },
      "source": [
        "## L1 and L2 Vector Normalization\n",
        "\n",
        "- L1 Normalisation is calculated as the sum of absolute differences between the vectors (similar to Manhattan Distance)\n",
        "\n",
        "- L2 Normalisation is calculated as the square root of sum of the squared vector values (similar to Euclidean Distance)\n",
        "\n",
        "We first need to define **Vector Norm** in general.\n",
        "\n",
        "The norm of a vector maps vector values to values in [0,∞). In machine learning, norms are useful because they are used to express distances: this vector and this vector are so-and-so far apart, according to this-or-that norm.\n",
        "\n",
        "> The non-negative value of the vector that represents the extent of the vector in space and is the vector's magnitude in the coordinate space.\n",
        "\n",
        "Now, let us define:\n",
        "\n",
        "- L1 Norm: The L1 norm is calculated as the sum of the absolute vector values, hence it is essentially Manhattan Distance calculated from the origin.\n",
        "- L2 Norm: The L2 norm calculates the distance of the vector coordinate from the origin of the vector space. As such, it is also known as the Euclidean norm as it is calculated as the Euclidean distance from the origin. The result is a positive distance value.\n",
        "\n",
        "Both these metrics are used in **Regularization** of the model coefficients while training to penalise a model which makes mistakes by reducing their coefficient values to prevent overfitting and also decrease complexity.\n",
        "\n",
        "## L1-L2 Norms Comparison\n",
        "\n",
        "- Robustness: L1>L2\n",
        "Robustness refers to resistance to outliers in a dataset. The absolute sum of differences is obviously much resistant to outliers than the sum of squares which exponentially increases the value of outliers, hence leading to the fact that L1 Norm is better at handling outliers in data than L2 Norm.\n",
        "\n",
        "> The more, a model ignores extreme values, the more it is robust.\n",
        "\n",
        "- Stability: L2>L1\n",
        "Stability is defined as resistance to horizontal adjustments. This is the perpendicular opposite of robustness. \n",
        "\n",
        "- Solution Numeracy: L2 is Euclidean distance, there is always one right answer as to how to get between two points fastest. Because L1 is taxicab distance, there are as many solutions to getting between two points as there are ways of driving between two points in Manhattan! \n",
        "\n",
        "![alt-text](https://upload.wikimedia.org/wikipedia/commons/0/08/Manhattan_distance.svg)\n",
        "\n",
        "![alt-text](https://raw.githubusercontent.com/vgaurav3011/Deep-Learning-Notes-and-Concepts/master/images/Module%201/L1vsL2.png?token=AHIGNHS7YCL5XRR4B2SUC3C67YBGQ)\n",
        "\n",
        "In the image above, we can see that the solution for the L1-norm (to get to the line from inside our diamond-shaped space), it's best to maximize x1 and leave x2 at zero, whereas the solution for the L2-norm (to get to the line from inside our circular-shaped space), is a combination of both x1 and x2. It is likely that the fit for L2 will be more precise, however, with the L1 norm, our solution will be more sparse.\n",
        "\n",
        "Since the L2-norm penalizes larger errors more strongly, it will give a solution which has fewer large residual values along with fewer very small residuals as well. The L1-norm, on the other hand, will give a solution with more large residuals, however, it will also have a lot of zeros in the solution.\n",
        "\n",
        "Hence, we might want to use the L1-norm when we have constraints on feature extraction. We can easily avoid computing a lot of computationally expensive features at the cost of some of the accuracy, since the L1-norm will give us a solution which has the weights for a large set of features set to zero.\n",
        "\n",
        "A case would be real-time detection or tracking of an object/face/material using a set of diverse handcrafted features with a large margin classifier like an SVM in a sliding window fashion where faster feature extraction is desirable.\n",
        "\n",
        "- Computational difficulty: L2 > L1\n",
        "\n",
        "L2 has a closed form solution because it's a square of errors. L1 does not have a closed form solution because it is a non-differentiable piecewise function, as it involves an absolute value. For this reason, L1 is computationally more expensive, as we can't solve it in terms of matrix math, and mostly rely on approximations.\n",
        "Sparsity: L1 > L2\n",
        "\n",
        "Sparsity is the property of having coefficients which are highly significant: very near 0 or very not near 0. In theory, the coefficients very near 0 can later be eliminated.\n",
        "\n",
        "Feature selection is a further-involved form of sparsity: instead of shrinking coefficients near to 0, feature selection is taking them to exactly 0, and hence excluding certain features from the model entirely.\n",
        "\n",
        "It is interesting to consider differences between the two metrics. In particular, the L2 distance is much more unforgiving than the L1 distance when it comes to differences between two vectors. That is, the L2 distance prefers many medium disagreements to one big one. L1 and L2 distances (or equivalently the L1/L2 norms of the differences between a pair of images) are the most commonly used special cases of a p-norm.\n",
        "\n",
        "For more details, refer to this blog post on Regularization: [Link](http://www.chioka.in/differences-between-l1-and-l2-as-loss-function-and-regularization/)"
      ]
    },
    {
      "cell_type": "code",
      "metadata": {
        "id": "XvvU3liJAs14",
        "colab_type": "code",
        "colab": {
          "base_uri": "https://localhost:8080/",
          "height": 86
        },
        "outputId": "7b08299b-de1f-49d8-b5c3-3f76bf162d04"
      },
      "source": [
        "# L1 Norm\n",
        "from numpy import array\n",
        "from numpy.linalg import norm\n",
        "a = array([1, 2, 3])\n",
        "print(a)\n",
        "l1 = norm(a, 1)\n",
        "print(\"L1: \", l1)\n",
        "\t\n",
        "# L2 norm of a vector\n",
        "from numpy import array\n",
        "from numpy.linalg import norm\n",
        "a = array([1, 2, 3])\n",
        "print(a)\n",
        "l2 = norm(a)\n",
        "print(\"L2: \", l2)"
      ],
      "execution_count": null,
      "outputs": [
        {
          "output_type": "stream",
          "text": [
            "[1 2 3]\n",
            "L1:  6.0\n",
            "[1 2 3]\n",
            "L2:  3.7416573867739413\n"
          ],
          "name": "stdout"
        }
      ]
    },
    {
      "cell_type": "code",
      "metadata": {
        "id": "kA6-HbXcSL6b",
        "colab_type": "code",
        "colab": {}
      },
      "source": [
        "# Let us try to retrain CIFAR-10 using Euclidean Distance as the closeness metric\n",
        "# distances = np.sqrt(np.sum(np.square(self.X_train - X[i,:]), axis = 1))\n",
        "\n",
        "import numpy as np\n",
        "class EuclideanNearestNeighbours(object):\n",
        "  def __init__(self):\n",
        "    pass\n",
        "  def train(self, X, y):\n",
        "    \"\"\" X is N x D where each row is an example. Y is 1-dimension of size N \"\"\"\n",
        "    # the nearest neighbor classifier simply remembers all the training data\n",
        "    self.X_train = X\n",
        "    self.y_train = y\n",
        "  def predict(self, X):\n",
        "    \"\"\" X is N x D where each row is an example we wish to predict label for \"\"\"\n",
        "    num_test = X.shape[0]\n",
        "    # lets make sure that the output type matches the input type\n",
        "    Ypred = np.zeros(num_test, dtype = self.y_train.dtype)\n",
        "\n",
        "    # loop over all test rows\n",
        "    for i in range(num_test):\n",
        "      # find the nearest training image to the i'th test image\n",
        "      # using the L1 distance (sum of absolute value differences)\n",
        "      distances = np.sqrt(np.sum(np.square(self.X_train - X[i,:]), axis = 1))\n",
        "      min_index = np.argmin(distances) # get the index with smallest distance\n",
        "      Ypred[i] = self.y_train[min_index] # predict the label of the nearest example\n",
        "\n",
        "    return Ypred\n",
        "  "
      ],
      "execution_count": null,
      "outputs": []
    },
    {
      "cell_type": "code",
      "metadata": {
        "id": "SDUpZIC6Sx3v",
        "colab_type": "code",
        "colab": {
          "base_uri": "https://localhost:8080/",
          "height": 34
        },
        "outputId": "3d8973eb-0300-4a8d-f2bc-63dfc5a57aed"
      },
      "source": [
        "nn = EuclideanNearestNeighbours() # create a Nearest Neighbor classifier class\n",
        "nn.train(Xtrain_rows, y_train) # train the classifier on the training images and labels\n",
        "Yte_predict = nn.predict(Xtest_rows) # predict labels on the test images\n",
        "# and now print the classification accuracy, which is the average number\n",
        "# of examples that are correctly predicted (i.e. label matches)\n",
        "print('accuracy: %f' % ( np.mean(Yte_predict == y_test) ))"
      ],
      "execution_count": 34,
      "outputs": [
        {
          "output_type": "stream",
          "text": [
            "accuracy: 0.100000\n"
          ],
          "name": "stdout"
        }
      ]
    },
    {
      "cell_type": "markdown",
      "metadata": {
        "id": "wAzpTagDVyIQ",
        "colab_type": "text"
      },
      "source": [
        "## K-Nearest Neighbours\n",
        "\n",
        "The intuition behind K-Nearest Neighbours is that instead of using all the images in the training set to find the closest one to the test image, we simply make use of a set of closest images, assign probability to each of them in order to finally determine the label. In particular, when k = 1, we recover the Nearest Neighbor classifier. Intuitively, higher values of k have a smoothing effect that makes the classifier more resistant to outliers.\n",
        "![alt-text](https://cs231n.github.io/assets/knn.jpeg)\n",
        "\n",
        "An example of the difference between Nearest Neighbor and a 5-Nearest Neighbor classifier, using 2-dimensional points and 3 classes (red, blue, green). The colored regions show the decision boundaries induced by the classifier with an L2 distance. The white regions show points that are ambiguously classified (i.e. class votes are tied for at least two classes). Notice that in the case of a NN classifier, outlier datapoints (e.g. green point in the middle of a cloud of blue points) create small islands of likely incorrect predictions, while the 5-NN classifier smooths over these irregularities, likely leading to better generalization on the test data\n",
        "(Source: CS231n)\n",
        "\n",
        "**Algorithm for K-Nearest Neighbours**<br/>\n",
        "\n",
        "\n",
        "1. Load the data into the program\n",
        "2. Initialize the number of nearest neighbours to be considered ie 'K' (preferably odd).\n",
        "3. ```\n",
        "for each tuple in datafile: # for each entry point\n",
        "      - Calculate the distance between the data point(tuple) to be classified and each data point given in the file.\n",
        "      - Add the distances corresponding to the data points or entries in the given datafile \n",
        "      - Sort the data in datafile from smalles to largest with respect to distance\n",
        "Pick the first k entries from the sorted list\n",
        "Observe the labels of the selected entries\n",
        "```\n",
        "\n",
        "4. Return mode of the k labels for classification/mean of the labels for regression"
      ]
    },
    {
      "cell_type": "code",
      "metadata": {
        "id": "jhbt3LbceTFh",
        "colab_type": "code",
        "colab": {
          "base_uri": "https://localhost:8080/",
          "height": 545
        },
        "outputId": "934269ae-a7fc-4746-d16f-6b83166254a2"
      },
      "source": [
        "from matplotlib.colors import ListedColormap\n",
        "from sklearn import neighbors, datasets\n",
        "import matplotlib.pyplot as plt\n",
        "\n",
        "n_neighbors = 15\n",
        "\n",
        "# import some data to play with\n",
        "iris = datasets.load_iris()\n",
        "X = iris.data[:, :2]  # we only take the first two features. We could\n",
        "                      # avoid this ugly slicing by using a two-dim dataset\n",
        "y = iris.target\n",
        "\n",
        "h = .02  # step size in the mesh\n",
        "\n",
        "# Create color maps\n",
        "cmap_light = ListedColormap(['#FFAAAA', '#AAFFAA', '#AAAAFF'])\n",
        "cmap_bold = ListedColormap(['#FF0000', '#00FF00', '#0000FF'])\n",
        "\n",
        "for weights in ['uniform', 'distance']:\n",
        "    # we create an instance of Neighbours Classifier and fit the data.\n",
        "    clf = neighbors.KNeighborsClassifier(n_neighbors, weights=weights)\n",
        "    clf.fit(X, y)\n",
        "\n",
        "    # Plot the decision boundary. For that, we will assign a color to each\n",
        "    # point in the mesh [x_min, x_max]x[y_min, y_max].\n",
        "    x_min, x_max = X[:, 0].min() - 1, X[:, 0].max() + 1\n",
        "    y_min, y_max = X[:, 1].min() - 1, X[:, 1].max() + 1\n",
        "    xx, yy = np.meshgrid(np.arange(x_min, x_max, h),\n",
        "                         np.arange(y_min, y_max, h))\n",
        "    Z = clf.predict(np.c_[xx.ravel(), yy.ravel()])\n",
        "\n",
        "    # Put the result into a color plot\n",
        "    Z = Z.reshape(xx.shape)\n",
        "    plt.figure()\n",
        "    plt.pcolormesh(xx, yy, Z, cmap=cmap_light)\n",
        "\n",
        "    # Plot also the training points\n",
        "    plt.scatter(X[:, 0], X[:, 1], c=y, cmap=cmap_bold)\n",
        "    plt.xlim(xx.min(), xx.max())\n",
        "    plt.ylim(yy.min(), yy.max())\n",
        "    plt.title(\"3-Class classification (k = %i, weights = '%s')\"\n",
        "              % (n_neighbors, weights))\n",
        "\n",
        "plt.show()"
      ],
      "execution_count": 36,
      "outputs": [
        {
          "output_type": "display_data",
          "data": {
            "image/png": "[encoded data removed]",
            "text/plain": [
              "<Figure size 432x288 with 1 Axes>"
            ]
          },
          "metadata": {
            "tags": [],
            "needs_background": "light"
          }
        },
        {
          "output_type": "display_data",
          "data": {
            "image/png": "[encoded data removed]",
            "text/plain": [
              "<Figure size 432x288 with 1 Axes>"
            ]
          },
          "metadata": {
            "tags": [],
            "needs_background": "light"
          }
        }
      ]
    },
    {
      "cell_type": "code",
      "metadata": {
        "id": "VaMR15PbfCoj",
        "colab_type": "code",
        "colab": {
          "base_uri": "https://localhost:8080/",
          "height": 121
        },
        "outputId": "3b3c757e-f256-493c-e6d8-aa605302a696"
      },
      "source": [
        "import pandas as pd\n",
        "import numpy as np\n",
        "import operator\n",
        "\n",
        "dataset = pd.read_csv(\"https://gist.githubusercontent.com/netj/8836201/raw/6f9306ad21398ea43cba4f7d537619d0e07d5ae3/iris.csv\")\n",
        "# We are using Euclidean Distance as metric for knn\n",
        "def Euclidean(x1, x2, length):\n",
        "  dist = 0\n",
        "  for i in range(length):\n",
        "    dist += np.square(x1[i] - x2[i])\n",
        "  return np.sqrt(dist)\n",
        "\n",
        "# Define knn method\n",
        "def knn(train, test, k):\n",
        "  distances = {}\n",
        "  length = test.shape[1]\n",
        "  for x in range(len(train)):\n",
        "    dist = Euclidean(test, train.iloc[x], length)\n",
        "    distances[x] = dist[0]\n",
        "  sortdist = sorted(distances.items(), key=operator.itemgetter(1))\n",
        "  neighbors = []\n",
        "  for x in range(k):\n",
        "        neighbors.append(sortdist[x][0])\n",
        "  Count = {}  # to get most frequent class of rows\n",
        "  for x in range(len(neighbors)):\n",
        "        response = train.iloc[neighbors[x]][-1]\n",
        "        if response in Count:\n",
        "            Count[response] += 1\n",
        "        else:\n",
        "            Count[response] = 1\n",
        "  sortcount = sorted(Count.items(), key=operator.itemgetter(1), reverse=True)\n",
        "  return (sortcount[0][0], neighbors)\n",
        "testSet = [[6.8, 3.4, 4.8, 2.4]]\n",
        "test = pd.DataFrame(testSet)\n",
        "\n",
        "# assigning different values to k\n",
        "k = 1\n",
        "k1 = 3\n",
        "k2 = 11\n",
        "\n",
        "# supplying test data to the model\n",
        "result, neigh = knn(dataset, test, k)\n",
        "result1, neigh1 = knn(dataset, test, k1)\n",
        "result2, neigh2 = knn(dataset, test, k2)\n",
        "\n",
        "# printing output prediction\n",
        "\n",
        "print(result)\n",
        "print(neigh)\n",
        "print(result1)\n",
        "print(neigh1)\n",
        "print(result2)\n",
        "print(neigh2)\n"
      ],
      "execution_count": 43,
      "outputs": [
        {
          "output_type": "stream",
          "text": [
            "Virginica\n",
            "[141]\n",
            "Virginica\n",
            "[141, 145, 110]\n",
            "Virginica\n",
            "[141, 145, 110, 115, 139, 147, 77, 148, 140, 112, 144]\n"
          ],
          "name": "stdout"
        }
      ]
    }
  ]
}