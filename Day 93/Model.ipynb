{
 "cells": [
  {
   "cell_type": "code",
   "execution_count": null,
   "metadata": {
    "colab": {
     "base_uri": "https://localhost:8080/",
     "height": 72,
     "resources": {
      "http://localhost:8080/nbextensions/google.colab/files.js": {
       "data": "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",
       "headers": [
        [
         "content-type",
         "application/javascript"
        ]
       ],
       "ok": true,
       "status": 200,
       "status_text": ""
      }
     }
    },
    "id": "ErHLuwkxcajL",
    "outputId": "eee732ad-da75-46a1-ea6c-cda345d13ae8"
   },
   "outputs": [
    {
     "data": {
      "text/html": [
       "\n",
       "     <input type=\"file\" id=\"files-ff1e27e1-2c18-4c3d-b24b-64e4e620b968\" name=\"files[]\" multiple disabled\n",
       "        style=\"border:none\" />\n",
       "     <output id=\"result-ff1e27e1-2c18-4c3d-b24b-64e4e620b968\">\n",
       "      Upload widget is only available when the cell has been executed in the\n",
       "      current browser session. Please rerun this cell to enable.\n",
       "      </output>\n",
       "      <script src=\"/nbextensions/google.colab/files.js\"></script> "
      ],
      "text/plain": [
       "<IPython.core.display.HTML object>"
      ]
     },
     "metadata": {
      "tags": []
     },
     "output_type": "display_data"
    },
    {
     "name": "stdout",
     "output_type": "stream",
     "text": [
      "Saving hacklive.zip to hacklive.zip\n"
     ]
    }
   ],
   "source": [
    "\n",
    "from google.colab import files\n",
    "files.upload()\n"
   ]
  },
  {
   "cell_type": "code",
   "execution_count": null,
   "metadata": {
    "id": "hZeG6cy4dMvC"
   },
   "outputs": [],
   "source": [
    "!unzip -q hacklive.zip\n",
    "!pip install -q --upgrade seaborn"
   ]
  },
  {
   "cell_type": "code",
   "execution_count": 325,
   "metadata": {
    "id": "xeK7plr3cfAM"
   },
   "outputs": [],
   "source": [
    "import numpy as np\n",
    "import pandas as pd\n",
    "import matplotlib.pyplot as plt\n",
    "%matplotlib inline\n",
    "\n",
    "plt.style.use('seaborn-whitegrid')\n",
    "\n",
    "import seaborn as sns\n",
    "from sklearn.model_selection import train_test_split, StratifiedKFold\n",
    "from sklearn.metrics import accuracy_score, f1_score\n",
    "from sklearn.model_selection import KFold\n",
    "\n",
    "from sklearn.tree import DecisionTreeRegressor\n",
    "from sklearn.ensemble import RandomForestRegressor\n",
    "from sklearn.preprocessing import StandardScaler\n",
    "\n",
    "from sklearn.linear_model import LinearRegression, ElasticNet\n",
    "\n",
    "from lightgbm import LGBMRegressor\n",
    "#from catboost import CatBoostRegressor\n",
    "from xgboost import XGBRegressor\n",
    "\n",
    "from IPython.core.interactiveshell import InteractiveShell\n",
    "InteractiveShell.ast_node_interactivity = \"all\"\n",
    "\n",
    "import warnings\n",
    "warnings.simplefilter('ignore')"
   ]
  },
  {
   "cell_type": "code",
   "execution_count": 326,
   "metadata": {
    "id": "97D6_CVwc3Mt"
   },
   "outputs": [],
   "source": [
    "ss = pd.read_csv('sample.csv')\n",
    "train = pd.read_csv('train.csv')\n",
    "test = pd.read_csv('test.csv')"
   ]
  },
  {
   "cell_type": "code",
   "execution_count": 327,
   "metadata": {
    "id": "W-UGqOi-ddbp"
   },
   "outputs": [],
   "source": [
    "ID_COL, TARGET_COL = 'video_id', 'likes'\n",
    "\n",
    "num_cols = ['views', 'dislikes', 'comment_count']\n",
    "cat_cols = ['category_id', 'country_code']\n",
    "text_cols = ['title', 'channel_title', 'tags', 'description']\n",
    "date_cols = ['publish_date']"
   ]
  },
  {
   "cell_type": "code",
   "execution_count": 328,
   "metadata": {
    "id": "Y4G3wgjZqbvx"
   },
   "outputs": [],
   "source": [
    "def download_preds(preds_test, file_name = 'hacklive_sub.csv'):\n",
    "\n",
    "  ## 1. Setting the target column with our obtained predictions\n",
    "  ss[TARGET_COL] = preds_test\n",
    "\n",
    "  ## 2. Saving our predictions to a csv file\n",
    "\n",
    "  ss.to_csv(file_name, index = False)\n",
    "\n",
    "  ## 3. Downloading and submitting the csv file\n",
    "  from google.colab import files\n",
    "  files.download(file_name)"
   ]
  },
  {
   "cell_type": "code",
   "execution_count": 329,
   "metadata": {
    "id": "_alFFA8tazJq"
   },
   "outputs": [],
   "source": [
    "df = pd.concat([train, test], axis=0).reset_index(drop=True)"
   ]
  },
  {
   "cell_type": "code",
   "execution_count": 330,
   "metadata": {
    "id": "lKTxlP-Qe_zK"
   },
   "outputs": [],
   "source": [
    "df[num_cols + ['likes']] = df[num_cols + ['likes']].apply(lambda x: np.log1p(x))"
   ]
  },
  {
   "cell_type": "code",
   "execution_count": 331,
   "metadata": {
    "id": "WjGvgU6XgNV6"
   },
   "outputs": [],
   "source": [
    "\n",
    "from sklearn.metrics import mean_squared_error, mean_squared_log_error\n",
    "\n",
    "def rmsle(y_true, y_pred):\n",
    "  return np.sqrt(mean_squared_log_error(y_true, y_pred))\n",
    "\n",
    "def av_metric(y_true, y_pred):\n",
    "  return 1000 * np.sqrt(mean_squared_error(y_true, y_pred))"
   ]
  },
  {
   "cell_type": "code",
   "execution_count": 332,
   "metadata": {
    "id": "4J7qwXeHeTGI"
   },
   "outputs": [],
   "source": [
    "from sklearn.model_selection import StratifiedKFold"
   ]
  },
  {
   "cell_type": "code",
   "execution_count": 333,
   "metadata": {
    "id": "gOdiBDxU4tcb"
   },
   "outputs": [],
   "source": [
    "def run_clf_kfold(clf, train, test, features):\n",
    "\n",
    "  N_SPLITS = 5\n",
    "\n",
    "  oofs = np.zeros(len(train))\n",
    "  preds = np.zeros((len(test)))\n",
    "\n",
    "  target = train[TARGET_COL]\n",
    "\n",
    "  folds = StratifiedKFold(n_splits = N_SPLITS)\n",
    "  stratified_target = pd.qcut(train[TARGET_COL], 10, labels = False, duplicates='drop')\n",
    "\n",
    "  for fold_, (trn_idx, val_idx) in enumerate(folds.split(train, stratified_target)):\n",
    "    print(f'\\n------------- Fold {fold_ + 1} -------------')\n",
    "\n",
    "    ############# Get train, validation and test sets along with targets ################\n",
    "  \n",
    "    ### Training Set\n",
    "    X_trn, y_trn = train[features].iloc[trn_idx], target.iloc[trn_idx]\n",
    "\n",
    "    ### Validation Set\n",
    "    X_val, y_val = train[features].iloc[val_idx], target.iloc[val_idx]\n",
    "\n",
    "    ### Test Set\n",
    "    X_test = test[features]\n",
    "\n",
    "    ############# Scaling Data ################\n",
    "    scaler = StandardScaler()\n",
    "    _ = scaler.fit(X_trn)\n",
    "\n",
    "    X_trn = scaler.transform(X_trn)\n",
    "    X_val = scaler.transform(X_val)\n",
    "    X_test = scaler.transform(X_test)\n",
    "\n",
    "\n",
    "    ############# Fitting and Predicting ################\n",
    "\n",
    "    _ = clf.fit(X_trn, y_trn)\n",
    "\n",
    "    ### Instead of directly predicting the classes we will obtain the probability of positive class.\n",
    "    preds_val = clf.predict(X_val)\n",
    "    preds_test = clf.predict(X_test)\n",
    "\n",
    "    fold_score = av_metric(y_val, preds_val)\n",
    "    print(f'\\nAV metric score for validation set is {fold_score}')\n",
    "\n",
    "    oofs[val_idx] = preds_val\n",
    "    preds += preds_test / N_SPLITS\n",
    "\n",
    "\n",
    "  oofs_score = av_metric(target, oofs)\n",
    "  print(f'\\n\\nAV metric for oofs is {oofs_score}')\n",
    "\n",
    "  return oofs, preds"
   ]
  },
  {
   "cell_type": "code",
   "execution_count": 334,
   "metadata": {
    "id": "6kpppxN39l4d"
   },
   "outputs": [],
   "source": [
    "def run_gradient_boosting(clf, fit_params, train, test, features):\n",
    "  N_SPLITS = 5\n",
    "  oofs = np.zeros(len(train_proc))\n",
    "  preds = np.zeros((len(test_proc)))\n",
    "\n",
    "  target = train[TARGET_COL]\n",
    "\n",
    "  folds = StratifiedKFold(n_splits = N_SPLITS)\n",
    "  stratified_target = pd.qcut(train[TARGET_COL], 10, labels = False, duplicates='drop')\n",
    "\n",
    "  feature_importances = pd.DataFrame()\n",
    "\n",
    "  for fold_, (trn_idx, val_idx) in enumerate(folds.split(train, stratified_target)):\n",
    "    print(f'\\n------------- Fold {fold_ + 1} -------------')\n",
    "\n",
    "    ### Training Set\n",
    "    X_trn, y_trn = train[features].iloc[trn_idx], target.iloc[trn_idx]\n",
    "\n",
    "    ### Validation Set\n",
    "    X_val, y_val = train[features].iloc[val_idx], target.iloc[val_idx]\n",
    "\n",
    "    ### Test Set\n",
    "    X_test = test[features]\n",
    "\n",
    "    scaler = StandardScaler()\n",
    "    _ = scaler.fit(X_trn)\n",
    "\n",
    "    X_trn = scaler.transform(X_trn)\n",
    "    X_val = scaler.transform(X_val)\n",
    "    X_test = scaler.transform(X_test)\n",
    "    \n",
    "    _ = clf.fit(X_trn, y_trn, eval_set = [(X_val, y_val)], **fit_params)\n",
    "\n",
    "    fold_importance = pd.DataFrame({'fold': fold_ + 1, 'feature': features, 'importance': clf.feature_importances_})\n",
    "    feature_importances = pd.concat([feature_importances, fold_importance], axis=0)\n",
    "\n",
    "    ### Instead of directly predicting the classes we will obtain the probability of positive class.\n",
    "    preds_val = clf.predict(X_val)\n",
    "    preds_test = clf.predict(X_test)\n",
    "\n",
    "    fold_score = av_metric(y_val, preds_val)\n",
    "    print(f'\\nAV metric score for validation set is {fold_score}')\n",
    "\n",
    "    oofs[val_idx] = preds_val\n",
    "    preds += preds_test / N_SPLITS\n",
    "\n",
    "\n",
    "  oofs_score = av_metric(target, oofs)\n",
    "  print(f'\\n\\nAV metric for oofs is {oofs_score}')\n",
    "\n",
    "  feature_importances = feature_importances.reset_index(drop = True)\n",
    "  fi = feature_importances.groupby('feature')['importance'].mean().sort_values(ascending = False)[:20][::-1]\n",
    "  fi.plot(kind = 'barh', figsize=(12, 6))\n",
    "\n",
    "  return oofs, preds, fi"
   ]
  },
  {
   "cell_type": "code",
   "execution_count": 335,
   "metadata": {
    "id": "qtEXT1g-E2YM"
   },
   "outputs": [],
   "source": [
    "def join_df(train, test):\n",
    "\n",
    "  df = pd.concat([train, test], axis=0).reset_index(drop = True)\n",
    "  features = [c for c in df.columns if c not in [ID_COL, TARGET_COL]]\n",
    "  df[num_cols + ['likes']] = df[num_cols + ['likes']].apply(lambda x: np.log1p(x))\n",
    "\n",
    "  return df, features\n",
    "\n",
    "def split_df_and_get_features(df, train_nrows):\n",
    "\n",
    "  train, test = df[:train_nrows].reset_index(drop = True), df[train_nrows:].reset_index(drop = True)\n",
    "  features = [c for c in train.columns if c not in [ID_COL, TARGET_COL]]\n",
    "  \n",
    "  return train, test, features"
   ]
  },
  {
   "cell_type": "code",
   "execution_count": 336,
   "metadata": {
    "id": "k4IQMVuAG2Jg"
   },
   "outputs": [],
   "source": [
    "\n",
    "df, features = join_df(train, test)"
   ]
  },
  {
   "cell_type": "code",
   "execution_count": 356,
   "metadata": {
    "colab": {
     "base_uri": "https://localhost:8080/",
     "height": 34
    },
    "id": "rHti4RxwvmaO",
    "outputId": "40ca8360-bfe3-46ee-9469-676b5c59622e"
   },
   "outputs": [
    {
     "data": {
      "text/plain": [
       "30362"
      ]
     },
     "execution_count": 356,
     "metadata": {
      "tags": []
     },
     "output_type": "execute_result"
    }
   ],
   "source": [
    "len(df['tags'].unique())"
   ]
  },
  {
   "cell_type": "code",
   "execution_count": 337,
   "metadata": {
    "id": "tF2tqFklaE1d"
   },
   "outputs": [],
   "source": [
    "cat_cols = ['category_id', 'country_code', 'channel_title']"
   ]
  },
  {
   "cell_type": "code",
   "execution_count": 338,
   "metadata": {
    "id": "bh5kYTFlHFwo"
   },
   "outputs": [],
   "source": [
    "### Label Encoding\n",
    "df[cat_cols] = df[cat_cols].apply(lambda x: pd.factorize(x)[0])"
   ]
  },
  {
   "cell_type": "code",
   "execution_count": 339,
   "metadata": {
    "id": "FJd-DNVuHlxI"
   },
   "outputs": [],
   "source": [
    "df['publish_date'] = pd.to_datetime(df['publish_date'], format='%Y-%m-%d')\n",
    "df['publish_date_from_the_start'] = (df['publish_date'] - df['publish_date'].min()).dt.days\n",
    "df['publish_date_day'] = pd.DatetimeIndex(df['publish_date']).day\n",
    "df['publish_date_day_of_week'] = df['publish_date'].dt.dayofweek\n",
    "df['publish_date_year'] = df['publish_date'].dt.year\n",
    "df['publish_date_month'] = df['publish_date'].dt.month"
   ]
  },
  {
   "cell_type": "code",
   "execution_count": 357,
   "metadata": {
    "id": "pcc0dOrGOexO"
   },
   "outputs": [],
   "source": [
    "df['channel_title_num_videos'] = df['channel_title'].map(df['channel_title'].value_counts())\n",
    "df['category_id_num_videos'] = df['category_id'].map(df['category_id'].value_counts())\n",
    "df['desc_id_num_videos'] = df['description'].map(df['description'].value_counts())\n",
    "df['tags_id_num_videos'] = df['tags'].map(df['tags'].value_counts())\n",
    "\n",
    "#df['publish_day_num_videos'] = df['publish_date_day'].map(df['publish_date_day'].value_counts())\n",
    "#df['publish_week_num_videos'] = df['publish_date_day_of_week'].map(df['publish_date_day_of_week'].value_counts())\n",
    "df['publish_date_num_videos'] = df['publish_date'].map(df['publish_date'].value_counts())"
   ]
  },
  {
   "cell_type": "code",
   "execution_count": 345,
   "metadata": {
    "id": "bam9kDLfPcXP"
   },
   "outputs": [],
   "source": [
    "df['channel_in_n_countries'] = df.groupby('channel_title')['country_code'].transform('nunique')\n",
    "df['title_in_n_countries'] = df.groupby('title')['country_code'].transform('nunique')\n",
    "df['desc_in_n_countries'] = df.groupby('description')['country_code'].transform('nunique')\n",
    "df['title_in_n_countries'] = df.groupby('title')['country_code'].transform('nunique')"
   ]
  },
  {
   "cell_type": "code",
   "execution_count": 346,
   "metadata": {
    "id": "R4O4FxAyt8D7"
   },
   "outputs": [],
   "source": [
    "df['channel_title_mean_views'] = df.groupby('channel_title')['views'].transform('mean')\n",
    "df['channel_title_max_views'] = df.groupby('channel_title')['views'].transform('max')\n",
    "df['channel_title_min_views'] = df.groupby('channel_title')['views'].transform('min')\n",
    "\n",
    "df['channel_title_mean_comments'] = df.groupby('channel_title')['comment_count'].transform('mean')\n",
    "df['channel_title_max_comments'] = df.groupby('channel_title')['comment_count'].transform('max')\n",
    "df['channel_title_min_comments'] = df.groupby('channel_title')['comment_count'].transform('min')\n",
    "\n",
    "df['channel_title_mean_dislikes'] = df.groupby('channel_title')['dislikes'].transform('mean')\n",
    "df['channel_title_max_dislikes'] = df.groupby('channel_title')['dislikes'].transform('max')\n",
    "df['channel_title_min_dislikes'] = df.groupby('channel_title')['dislikes'].transform('min')"
   ]
  },
  {
   "cell_type": "code",
   "execution_count": 347,
   "metadata": {
    "id": "tBOridCdfL8q"
   },
   "outputs": [],
   "source": [
    "df['title_len'] = df['title'].apply(lambda x: len(x))\n",
    "df['description_len'] = df['description'].apply(lambda x: len(x))\n",
    "df['tags_len'] = df['tags'].apply(lambda x: len(x))"
   ]
  },
  {
   "cell_type": "code",
   "execution_count": 348,
   "metadata": {
    "id": "jlm_leaw1Nwf"
   },
   "outputs": [],
   "source": [
    "df['category_views_min'] = df.groupby('category_id')['views'].transform('min')\n",
    "df['category_views_max'] = df.groupby('category_id')['views'].transform('max')\n",
    "df['category_views_mean'] = df.groupby('category_id')['views'].transform('mean')\n",
    "\n",
    "df['category_dislikes_min'] = df.groupby('category_id')['dislikes'].transform('min')\n",
    "df['category_dislikes_max'] = df.groupby('category_id')['dislikes'].transform('max')\n",
    "df['category_dislikes_mean'] = df.groupby('category_id')['dislikes'].transform('mean')\n",
    "\n",
    "df['category_comment_min'] = df.groupby('category_id')['comment_count'].transform('min')\n",
    "df['category_comment_max'] = df.groupby('category_id')['comment_count'].transform('max')\n",
    "df['category_comment_mean'] = df.groupby('category_id')['comment_count'].transform('mean')"
   ]
  },
  {
   "cell_type": "code",
   "execution_count": 349,
   "metadata": {
    "id": "A8L1ElTMgko8"
   },
   "outputs": [],
   "source": [
    "df['country_code_view_min'] = df.groupby('country_code')['views'].transform('min')\n",
    "df['country_code_view_max'] = df.groupby('country_code')['views'].transform('max')\n",
    "df['country_code_view_mean'] = df.groupby('country_code')['views'].transform('mean')\n",
    "\n",
    "df['country_code_dislikes_min'] = df.groupby('country_code')['dislikes'].transform('min')\n",
    "df['country_code_dislikes_max'] = df.groupby('country_code')['dislikes'].transform('max')\n",
    "df['country_code_dislikes_mean'] = df.groupby('country_code')['dislikes'].transform('mean')\n",
    "\n",
    "df['country_code_comment_min'] = df.groupby('country_code')['comment_count'].transform('min')\n",
    "df['country_code_comment_max'] = df.groupby('country_code')['comment_count'].transform('max')\n",
    "df['country_code_comment_mean'] = df.groupby('country_code')['comment_count'].transform('mean')"
   ]
  },
  {
   "cell_type": "code",
   "execution_count": 350,
   "metadata": {
    "id": "SLBOVENK60Dr"
   },
   "outputs": [],
   "source": [
    "df['week_view_min'] = df.groupby('publish_date_day_of_week')['views'].transform('min')\n",
    "df['week_view_max'] = df.groupby('publish_date_day_of_week')['views'].transform('max')\n",
    "df['week_view_mean'] = df.groupby('publish_date_day_of_week')['views'].transform('mean')\n",
    "\n",
    "df['week_dislikes_min'] = df.groupby('publish_date_day_of_week')['dislikes'].transform('min')\n",
    "df['week_dislikes_max'] = df.groupby('publish_date_day_of_week')['dislikes'].transform('max')\n",
    "df['week_dislikes_mean'] = df.groupby('publish_date_day_of_week')['dislikes'].transform('mean')\n",
    "\n",
    "df['week_comment_min'] = df.groupby('publish_date_day_of_week')['comment_count'].transform('min')\n",
    "df['week_comment_max'] = df.groupby('publish_date_day_of_week')['comment_count'].transform('max')\n",
    "df['week_comment_mean'] = df.groupby('publish_date_day_of_week')['comment_count'].transform('mean')"
   ]
  },
  {
   "cell_type": "code",
   "execution_count": 351,
   "metadata": {
    "id": "Kq_bbUUJJIwE"
   },
   "outputs": [],
   "source": [
    "df['month_view_min'] = df.groupby('publish_date_month')['views'].transform('min')\n",
    "df['month_view_max'] = df.groupby('publish_date_month')['views'].transform('max')\n",
    "df['month_view_mean'] = df.groupby('publish_date_month')['views'].transform('mean')\n",
    "\n",
    "df['month_dislikes_min'] = df.groupby('publish_date_month')['dislikes'].transform('min')\n",
    "df['month_dislikes_max'] = df.groupby('publish_date_month')['dislikes'].transform('max')\n",
    "df['month_dislikes_mean'] = df.groupby('publish_date_month')['dislikes'].transform('mean')\n",
    "\n",
    "df['month_comment_min'] = df.groupby('publish_date_month')['comment_count'].transform('min')\n",
    "df['month_comment_max'] = df.groupby('publish_date_month')['comment_count'].transform('max')\n",
    "df['month_comment_mean'] = df.groupby('publish_date_month')['comment_count'].transform('mean')"
   ]
  },
  {
   "cell_type": "code",
   "execution_count": 352,
   "metadata": {
    "id": "T01Xl4Sdhw7m"
   },
   "outputs": [],
   "source": [
    "from sklearn.feature_extraction.text import CountVectorizer"
   ]
  },
  {
   "cell_type": "code",
   "execution_count": 353,
   "metadata": {
    "colab": {
     "base_uri": "https://localhost:8080/",
     "height": 34
    },
    "id": "xjJ_8qnhhUqv",
    "outputId": "b6d78795-c09b-425d-f778-e05ee5090c6e"
   },
   "outputs": [
    {
     "data": {
      "text/plain": [
       "(37231, 50)"
      ]
     },
     "execution_count": 353,
     "metadata": {
      "tags": []
     },
     "output_type": "execute_result"
    }
   ],
   "source": [
    "TOP_N_WORDS = 50\n",
    "\n",
    "vec = CountVectorizer(max_features = TOP_N_WORDS)\n",
    "txt_to_fts = vec.fit_transform(df['description']).toarray()\n",
    "txt_to_fts.shape"
   ]
  },
  {
   "cell_type": "code",
   "execution_count": 354,
   "metadata": {
    "id": "_XieSHcliihy"
   },
   "outputs": [],
   "source": [
    "c = 'description'\n",
    "txt_fts_names = [c + f'_word_{i}_count' for i in range(TOP_N_WORDS)]\n",
    "df[txt_fts_names] = txt_to_fts\n",
    "\n",
    "c = 'title'\n",
    "txt_fts_title = [c + f'_word_{i}_count' for i in range(TOP_N_WORDS)]\n",
    "df[txt_fts_title] = txt_to_fts\n",
    "\n",
    "c ='tags'\n",
    "txt_fts_tags = [c + f'_word_{i}_count' for i in range(TOP_N_WORDS)]\n",
    "df[txt_fts_tags] = txt_to_fts"
   ]
  },
  {
   "cell_type": "code",
   "execution_count": 358,
   "metadata": {
    "id": "q3V20pO9VwkB"
   },
   "outputs": [],
   "source": [
    "train_proc, test_proc, features = split_df_and_get_features(df, train.shape[0])\n",
    "features = [c for c in df.columns if c not in [ID_COL, TARGET_COL]]\n",
    "cat_num_cols = [c for c in features if c not in ['title', 'tags', 'description', 'publish_date']]"
   ]
  },
  {
   "cell_type": "code",
   "execution_count": 321,
   "metadata": {
    "colab": {
     "base_uri": "https://localhost:8080/",
     "height": 1000
    },
    "id": "yrHM2g5efwZd",
    "outputId": "3ae265bf-9eda-412a-ca77-448c023a4065"
   },
   "outputs": [
    {
     "data": {
      "text/plain": [
       "['channel_title',\n",
       " 'category_id',\n",
       " 'views',\n",
       " 'dislikes',\n",
       " 'comment_count',\n",
       " 'country_code',\n",
       " 'publish_date_from_the_start',\n",
       " 'publish_date_day',\n",
       " 'publish_date_day_of_week',\n",
       " 'publish_date_year',\n",
       " 'publish_date_month',\n",
       " 'channel_title_num_videos',\n",
       " 'category_id_num_videos',\n",
       " 'publish_date_num_videos',\n",
       " 'publish_day_num_videos',\n",
       " 'publish_week_num_videos',\n",
       " 'channel_in_n_countries',\n",
       " 'title_in_n_countries',\n",
       " 'desc_in_n_countries',\n",
       " 'channel_title_mean_views',\n",
       " 'channel_title_max_views',\n",
       " 'channel_title_min_views',\n",
       " 'channel_title_mean_comments',\n",
       " 'channel_title_max_comments',\n",
       " 'channel_title_min_comments',\n",
       " 'channel_title_mean_dislikes',\n",
       " 'channel_title_max_dislikes',\n",
       " 'channel_title_min_dislikes',\n",
       " 'title_len',\n",
       " 'description_len',\n",
       " 'tags_len',\n",
       " 'category_views_min',\n",
       " 'category_views_max',\n",
       " 'category_views_mean',\n",
       " 'category_dislikes_min',\n",
       " 'category_dislikes_max',\n",
       " 'category_dislikes_mean',\n",
       " 'category_comment_min',\n",
       " 'category_comment_max',\n",
       " 'category_comment_mean',\n",
       " 'country_code_view_min',\n",
       " 'country_code_view_max',\n",
       " 'country_code_view_mean',\n",
       " 'country_code_dislikes_min',\n",
       " 'country_code_dislikes_max',\n",
       " 'country_code_dislikes_mean',\n",
       " 'country_code_comment_min',\n",
       " 'country_code_comment_max',\n",
       " 'country_code_comment_mean',\n",
       " 'week_view_min',\n",
       " 'week_view_max',\n",
       " 'week_view_mean',\n",
       " 'week_dislikes_min',\n",
       " 'week_dislikes_max',\n",
       " 'week_dislikes_mean',\n",
       " 'week_comment_min',\n",
       " 'week_comment_max',\n",
       " 'week_comment_mean',\n",
       " 'month_view_min',\n",
       " 'month_view_max',\n",
       " 'month_view_mean',\n",
       " 'month_dislikes_min',\n",
       " 'month_dislikes_max',\n",
       " 'month_dislikes_mean',\n",
       " 'month_comment_min',\n",
       " 'month_comment_max',\n",
       " 'month_comment_mean',\n",
       " 'description_word_0_count',\n",
       " 'description_word_1_count',\n",
       " 'description_word_2_count',\n",
       " 'description_word_3_count',\n",
       " 'description_word_4_count',\n",
       " 'description_word_5_count',\n",
       " 'description_word_6_count',\n",
       " 'description_word_7_count',\n",
       " 'description_word_8_count',\n",
       " 'description_word_9_count',\n",
       " 'description_word_10_count',\n",
       " 'description_word_11_count',\n",
       " 'description_word_12_count',\n",
       " 'description_word_13_count',\n",
       " 'description_word_14_count',\n",
       " 'description_word_15_count',\n",
       " 'description_word_16_count',\n",
       " 'description_word_17_count',\n",
       " 'description_word_18_count',\n",
       " 'description_word_19_count',\n",
       " 'description_word_20_count',\n",
       " 'description_word_21_count',\n",
       " 'description_word_22_count',\n",
       " 'description_word_23_count',\n",
       " 'description_word_24_count',\n",
       " 'description_word_25_count',\n",
       " 'description_word_26_count',\n",
       " 'description_word_27_count',\n",
       " 'description_word_28_count',\n",
       " 'description_word_29_count',\n",
       " 'description_word_30_count',\n",
       " 'description_word_31_count',\n",
       " 'description_word_32_count',\n",
       " 'description_word_33_count',\n",
       " 'description_word_34_count',\n",
       " 'description_word_35_count',\n",
       " 'description_word_36_count',\n",
       " 'description_word_37_count',\n",
       " 'description_word_38_count',\n",
       " 'description_word_39_count',\n",
       " 'description_word_40_count',\n",
       " 'description_word_41_count',\n",
       " 'description_word_42_count',\n",
       " 'description_word_43_count',\n",
       " 'description_word_44_count',\n",
       " 'description_word_45_count',\n",
       " 'description_word_46_count',\n",
       " 'description_word_47_count',\n",
       " 'description_word_48_count',\n",
       " 'description_word_49_count',\n",
       " 'title_word_0_count',\n",
       " 'title_word_1_count',\n",
       " 'title_word_2_count',\n",
       " 'title_word_3_count',\n",
       " 'title_word_4_count',\n",
       " 'title_word_5_count',\n",
       " 'title_word_6_count',\n",
       " 'title_word_7_count',\n",
       " 'title_word_8_count',\n",
       " 'title_word_9_count',\n",
       " 'title_word_10_count',\n",
       " 'title_word_11_count',\n",
       " 'title_word_12_count',\n",
       " 'title_word_13_count',\n",
       " 'title_word_14_count',\n",
       " 'title_word_15_count',\n",
       " 'title_word_16_count',\n",
       " 'title_word_17_count',\n",
       " 'title_word_18_count',\n",
       " 'title_word_19_count',\n",
       " 'title_word_20_count',\n",
       " 'title_word_21_count',\n",
       " 'title_word_22_count',\n",
       " 'title_word_23_count',\n",
       " 'title_word_24_count',\n",
       " 'title_word_25_count',\n",
       " 'title_word_26_count',\n",
       " 'title_word_27_count',\n",
       " 'title_word_28_count',\n",
       " 'title_word_29_count',\n",
       " 'title_word_30_count',\n",
       " 'title_word_31_count',\n",
       " 'title_word_32_count',\n",
       " 'title_word_33_count',\n",
       " 'title_word_34_count',\n",
       " 'title_word_35_count',\n",
       " 'title_word_36_count',\n",
       " 'title_word_37_count',\n",
       " 'title_word_38_count',\n",
       " 'title_word_39_count',\n",
       " 'title_word_40_count',\n",
       " 'title_word_41_count',\n",
       " 'title_word_42_count',\n",
       " 'title_word_43_count',\n",
       " 'title_word_44_count',\n",
       " 'title_word_45_count',\n",
       " 'title_word_46_count',\n",
       " 'title_word_47_count',\n",
       " 'title_word_48_count',\n",
       " 'title_word_49_count',\n",
       " 'tags_word_0_count',\n",
       " 'tags_word_1_count',\n",
       " 'tags_word_2_count',\n",
       " 'tags_word_3_count',\n",
       " 'tags_word_4_count',\n",
       " 'tags_word_5_count',\n",
       " 'tags_word_6_count',\n",
       " 'tags_word_7_count',\n",
       " 'tags_word_8_count',\n",
       " 'tags_word_9_count',\n",
       " 'tags_word_10_count',\n",
       " 'tags_word_11_count',\n",
       " 'tags_word_12_count',\n",
       " 'tags_word_13_count',\n",
       " 'tags_word_14_count',\n",
       " 'tags_word_15_count',\n",
       " 'tags_word_16_count',\n",
       " 'tags_word_17_count',\n",
       " 'tags_word_18_count',\n",
       " 'tags_word_19_count',\n",
       " 'tags_word_20_count',\n",
       " 'tags_word_21_count',\n",
       " 'tags_word_22_count',\n",
       " 'tags_word_23_count',\n",
       " 'tags_word_24_count',\n",
       " 'tags_word_25_count',\n",
       " 'tags_word_26_count',\n",
       " 'tags_word_27_count',\n",
       " 'tags_word_28_count',\n",
       " 'tags_word_29_count',\n",
       " 'tags_word_30_count',\n",
       " 'tags_word_31_count',\n",
       " 'tags_word_32_count',\n",
       " 'tags_word_33_count',\n",
       " 'tags_word_34_count',\n",
       " 'tags_word_35_count',\n",
       " 'tags_word_36_count',\n",
       " 'tags_word_37_count',\n",
       " 'tags_word_38_count',\n",
       " 'tags_word_39_count',\n",
       " 'tags_word_40_count',\n",
       " 'tags_word_41_count',\n",
       " 'tags_word_42_count',\n",
       " 'tags_word_43_count',\n",
       " 'tags_word_44_count',\n",
       " 'tags_word_45_count',\n",
       " 'tags_word_46_count',\n",
       " 'tags_word_47_count',\n",
       " 'tags_word_48_count',\n",
       " 'tags_word_49_count']"
      ]
     },
     "execution_count": 321,
     "metadata": {
      "tags": []
     },
     "output_type": "execute_result"
    }
   ],
   "source": [
    "cat_num_cols"
   ]
  },
  {
   "cell_type": "code",
   "execution_count": 322,
   "metadata": {
    "id": "e-Slzr5QhHZ4"
   },
   "outputs": [],
   "source": [
    "def get_optimal_f1_thresh(target, oofs):\n",
    "  thresholds = np.arange(0, 100)/100\n",
    "  thresh_scores = []\n",
    "  for thresh in thresholds:\n",
    "    oofs_rounded = (oofs > thresh) * 1\n",
    "    thresh_score = av_metric(target, oofs_rounded)\n",
    "    thresh_scores.append(thresh_score)\n",
    "  \n",
    "  all_thresholds_and_scores = pd.Series(index = thresholds, data = thresh_scores)\n",
    "  all_thresholds_and_scores.plot(figsize=(10, 6), fontsize=14)\n",
    "  \n",
    "  plt.xlabel('Threshold', fontsize=14)\n",
    "  plt.ylabel('Metric Score', fontsize=14)\n",
    "\n",
    "  return all_thresholds_and_scores.sort_values(ascending=False).index.values[0]"
   ]
  },
  {
   "cell_type": "code",
   "execution_count": 359,
   "metadata": {
    "colab": {
     "base_uri": "https://localhost:8080/",
     "height": 1000
    },
    "id": "LeFf4TZWgqVI",
    "outputId": "80121556-a11d-4e6c-d150-042f92780854"
   },
   "outputs": [
    {
     "name": "stdout",
     "output_type": "stream",
     "text": [
      "\n",
      "------------- Fold 1 -------------\n",
      "Training until validation scores don't improve for 200 rounds.\n",
      "[300]\tvalid_0's rmse: 0.528606\n",
      "[600]\tvalid_0's rmse: 0.507696\n",
      "[900]\tvalid_0's rmse: 0.49862\n",
      "[1200]\tvalid_0's rmse: 0.49191\n",
      "[1500]\tvalid_0's rmse: 0.488282\n",
      "[1800]\tvalid_0's rmse: 0.485997\n",
      "[2100]\tvalid_0's rmse: 0.483955\n",
      "[2400]\tvalid_0's rmse: 0.482236\n",
      "[2700]\tvalid_0's rmse: 0.481255\n",
      "[3000]\tvalid_0's rmse: 0.480548\n",
      "[3300]\tvalid_0's rmse: 0.479835\n",
      "[3600]\tvalid_0's rmse: 0.479226\n",
      "[3900]\tvalid_0's rmse: 0.478916\n",
      "[4200]\tvalid_0's rmse: 0.478758\n",
      "[4500]\tvalid_0's rmse: 0.478505\n",
      "[4800]\tvalid_0's rmse: 0.478327\n",
      "Did not meet early stopping. Best iteration is:\n",
      "[4952]\tvalid_0's rmse: 0.478238\n",
      "\n",
      "AV metric score for validation set is 478.23773527369656\n",
      "\n",
      "------------- Fold 2 -------------\n",
      "Training until validation scores don't improve for 200 rounds.\n",
      "[300]\tvalid_0's rmse: 0.523412\n",
      "[600]\tvalid_0's rmse: 0.502223\n",
      "[900]\tvalid_0's rmse: 0.492893\n",
      "[1200]\tvalid_0's rmse: 0.488405\n",
      "[1500]\tvalid_0's rmse: 0.485883\n",
      "[1800]\tvalid_0's rmse: 0.484109\n",
      "[2100]\tvalid_0's rmse: 0.482998\n",
      "[2400]\tvalid_0's rmse: 0.482098\n",
      "[2700]\tvalid_0's rmse: 0.481387\n",
      "[3000]\tvalid_0's rmse: 0.481012\n",
      "[3300]\tvalid_0's rmse: 0.480588\n",
      "[3600]\tvalid_0's rmse: 0.480334\n",
      "[3900]\tvalid_0's rmse: 0.480127\n",
      "Early stopping, best iteration is:\n",
      "[3854]\tvalid_0's rmse: 0.480064\n",
      "\n",
      "AV metric score for validation set is 480.06393966574683\n",
      "\n",
      "------------- Fold 3 -------------\n",
      "Training until validation scores don't improve for 200 rounds.\n",
      "[300]\tvalid_0's rmse: 0.515657\n",
      "[600]\tvalid_0's rmse: 0.494187\n",
      "[900]\tvalid_0's rmse: 0.485134\n",
      "[1200]\tvalid_0's rmse: 0.480257\n",
      "[1500]\tvalid_0's rmse: 0.477921\n",
      "[1800]\tvalid_0's rmse: 0.476569\n",
      "[2100]\tvalid_0's rmse: 0.475548\n",
      "[2400]\tvalid_0's rmse: 0.475047\n",
      "[2700]\tvalid_0's rmse: 0.474268\n",
      "[3000]\tvalid_0's rmse: 0.473906\n",
      "[3300]\tvalid_0's rmse: 0.473746\n",
      "[3600]\tvalid_0's rmse: 0.473579\n",
      "[3900]\tvalid_0's rmse: 0.473358\n",
      "Early stopping, best iteration is:\n",
      "[3951]\tvalid_0's rmse: 0.47327\n",
      "\n",
      "AV metric score for validation set is 473.26979209247355\n",
      "\n",
      "------------- Fold 4 -------------\n",
      "Training until validation scores don't improve for 200 rounds.\n",
      "[300]\tvalid_0's rmse: 0.510494\n",
      "[600]\tvalid_0's rmse: 0.489216\n",
      "[900]\tvalid_0's rmse: 0.47925\n",
      "[1200]\tvalid_0's rmse: 0.474007\n",
      "[1500]\tvalid_0's rmse: 0.471419\n",
      "[1800]\tvalid_0's rmse: 0.469969\n",
      "[2100]\tvalid_0's rmse: 0.468528\n",
      "[2400]\tvalid_0's rmse: 0.467235\n",
      "[2700]\tvalid_0's rmse: 0.466776\n",
      "[3000]\tvalid_0's rmse: 0.466399\n",
      "[3300]\tvalid_0's rmse: 0.46599\n",
      "[3600]\tvalid_0's rmse: 0.465745\n",
      "[3900]\tvalid_0's rmse: 0.46553\n",
      "Early stopping, best iteration is:\n",
      "[3880]\tvalid_0's rmse: 0.465503\n",
      "\n",
      "AV metric score for validation set is 465.50250569960014\n",
      "\n",
      "------------- Fold 5 -------------\n",
      "Training until validation scores don't improve for 200 rounds.\n",
      "[300]\tvalid_0's rmse: 0.523593\n",
      "[600]\tvalid_0's rmse: 0.503324\n",
      "[900]\tvalid_0's rmse: 0.494475\n",
      "[1200]\tvalid_0's rmse: 0.489063\n",
      "[1500]\tvalid_0's rmse: 0.485501\n",
      "[1800]\tvalid_0's rmse: 0.483657\n",
      "[2100]\tvalid_0's rmse: 0.482798\n",
      "[2400]\tvalid_0's rmse: 0.481556\n",
      "[2700]\tvalid_0's rmse: 0.480784\n",
      "[3000]\tvalid_0's rmse: 0.480679\n",
      "[3300]\tvalid_0's rmse: 0.480527\n",
      "[3600]\tvalid_0's rmse: 0.480304\n",
      "[3900]\tvalid_0's rmse: 0.480129\n",
      "[4200]\tvalid_0's rmse: 0.479826\n",
      "Early stopping, best iteration is:\n",
      "[4265]\tvalid_0's rmse: 0.479748\n",
      "\n",
      "AV metric score for validation set is 479.74843642805445\n",
      "\n",
      "\n",
      "AV metric for oofs is 475.39639852622304\n",
      "Optimal threhold is 0.99\n"
     ]
    },
    {
     "data": {
      "image/png": "[encoded data removed]",
      "text/plain": [
       "<Figure size 720x432 with 1 Axes>"
      ]
     },
     "metadata": {
      "tags": []
     },
     "output_type": "display_data"
    }
   ],
   "source": [
    "clf = LGBMRegressor(n_estimators = 5000,\n",
    "                        learning_rate = 0.05,\n",
    "                        colsample_bytree = 0.65,\n",
    "                        metric = 'None',\n",
    "                        )\n",
    "fit_params = {'verbose': 300, 'early_stopping_rounds': 200, 'eval_metric': 'rmse'}\n",
    "\n",
    "lgb_oofs, lgb_preds, fi = run_gradient_boosting(clf, fit_params, train_proc, test_proc, cat_num_cols)\n",
    "optimal_thresh = get_optimal_f1_thresh(train_proc[TARGET_COL], lgb_oofs)\n",
    "print(f'Optimal threhold is {optimal_thresh}')"
   ]
  },
  {
   "cell_type": "markdown",
   "metadata": {
    "id": "vBu8D8N9vamp"
   },
   "source": [
    "**Submitting on the Leaderboard**"
   ]
  },
  {
   "cell_type": "code",
   "execution_count": 360,
   "metadata": {
    "colab": {
     "base_uri": "https://localhost:8080/",
     "height": 17
    },
    "id": "5sCJTmoyvamq",
    "outputId": "2403668a-b37d-4fbc-8cdd-8af231a0e0e9"
   },
   "outputs": [
    {
     "data": {
      "application/javascript": [
       "\n",
       "    async function download(id, filename, size) {\n",
       "      if (!google.colab.kernel.accessAllowed) {\n",
       "        return;\n",
       "      }\n",
       "      const div = document.createElement('div');\n",
       "      const label = document.createElement('label');\n",
       "      label.textContent = `Downloading \"${filename}\": `;\n",
       "      div.appendChild(label);\n",
       "      const progress = document.createElement('progress');\n",
       "      progress.max = size;\n",
       "      div.appendChild(progress);\n",
       "      document.body.appendChild(div);\n",
       "\n",
       "      const buffers = [];\n",
       "      let downloaded = 0;\n",
       "\n",
       "      const channel = await google.colab.kernel.comms.open(id);\n",
       "      // Send a message to notify the kernel that we're ready.\n",
       "      channel.send({})\n",
       "\n",
       "      for await (const message of channel.messages) {\n",
       "        // Send a message to notify the kernel that we're ready.\n",
       "        channel.send({})\n",
       "        if (message.buffers) {\n",
       "          for (const buffer of message.buffers) {\n",
       "            buffers.push(buffer);\n",
       "            downloaded += buffer.byteLength;\n",
       "            progress.value = downloaded;\n",
       "          }\n",
       "        }\n",
       "      }\n",
       "      const blob = new Blob(buffers, {type: 'application/binary'});\n",
       "      const a = document.createElement('a');\n",
       "      a.href = window.URL.createObjectURL(blob);\n",
       "      a.download = filename;\n",
       "      div.appendChild(a);\n",
       "      a.click();\n",
       "      div.remove();\n",
       "    }\n",
       "  "
      ],
      "text/plain": [
       "<IPython.core.display.Javascript object>"
      ]
     },
     "metadata": {
      "tags": []
     },
     "output_type": "display_data"
    },
    {
     "data": {
      "application/javascript": [
       "download(\"download_38749f24-2247-4fb6-b3ee-db045fa3848a\", \"hacklive_lgb_text_cols_bow_newbhagwanO.csv\", 270860)"
      ],
      "text/plain": [
       "<IPython.core.display.Javascript object>"
      ]
     },
     "metadata": {
      "tags": []
     },
     "output_type": "display_data"
    }
   ],
   "source": [
    "lgb_preds_t = np.expm1(lgb_preds)\n",
    "download_preds(lgb_preds_t, file_name = 'hacklive_lgb_text_cols_bow_newbhagwanO.csv')"
   ]
  }
 ],
 "metadata": {
  "colab": {
   "collapsed_sections": [
    "pfYCDeHLxeJ-"
   ],
   "name": "Model.ipynb",
   "provenance": []
  },
  "kernelspec": {
   "display_name": "Python 3",
   "language": "python",
   "name": "python3"
  },
  "language_info": {
   "codemirror_mode": {
    "name": "ipython",
    "version": 3
   },
   "file_extension": ".py",
   "mimetype": "text/x-python",
   "name": "python",
   "nbconvert_exporter": "python",
   "pygments_lexer": "ipython3",
   "version": "3.8.2"
  }
 },
 "nbformat": 4,
 "nbformat_minor": 1
}
